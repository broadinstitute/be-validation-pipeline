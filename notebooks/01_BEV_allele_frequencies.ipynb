{
 "cells": [
  {
   "cell_type": "markdown",
   "metadata": {},
   "source": [
    "# Making allele frequency plots\n",
    "\n",
    "This notebook contains code to process the CRISPResso \"allele frequency table\" files from base editor validation experiments. The inputs are 2 input files: the first contains metainformation about each sample to make the \"allele frequency\" file, and the second contains metainformation to compute correlations between the log-normalized read counts. The output of this file are 3 files for each sgRNA / primer pair: \n",
    "1. a file containing all alleles and their read counts for each sample\n",
    "2. a filtered version of (1) that only contains alleles with at least 1% abundance in any sample\n",
    "3. a file containing the Pearson correlations between log-normalized read counts of each allele with > 100 reads in at least one sample\n",
    "\n",
    "(1) is the starting file used to show the abundance of specific edits over time (code in BEV_aa_over_time.ipynb). (2) is the starting file used to create allele-level heatmaps (this was done using GraphPad Prism). (3) is the starting file for the plots showing the replicate correlation for validation experiments (actual plots were made using GraphPad Prism)."
   ]
  },
  {
   "cell_type": "code",
   "execution_count": 1,
   "metadata": {},
   "outputs": [],
   "source": [
    "%load_ext autoreload\n",
    "%autoreload 2"
   ]
  },
  {
   "cell_type": "code",
   "execution_count": 3,
   "metadata": {},
   "outputs": [],
   "source": [
    "import sys\n",
    "sys.path.append('../scripts/')\n",
    "import pandas as pd \n",
    "\n",
    "import notebook_functions as nb\n",
    "\n",
    "pd.set_option('display.max_colwidth', None)"
   ]
  },
  {
   "cell_type": "code",
   "execution_count": 4,
   "metadata": {
    "scrolled": true
   },
   "outputs": [
    {
     "name": "stdout",
     "output_type": "stream",
     "text": [
      "Python version: 3.7.6 (default, Jan  8 2020, 13:42:34) \n",
      "[Clang 4.0.1 (tags/RELEASE_401/final)]\n"
     ]
    }
   ],
   "source": [
    "print('Python version: ' + sys.version)"
   ]
  },
  {
   "cell_type": "code",
   "execution_count": 5,
   "metadata": {
    "scrolled": true
   },
   "outputs": [
    {
     "name": "stdout",
     "output_type": "stream",
     "text": [
      "pandas 1.2.1\n",
      "numpy 1.19.5\n"
     ]
    }
   ],
   "source": [
    "modules = ['pandas', 'numpy']\n",
    "for module in modules:\n",
    "    try:\n",
    "        print(module + ' ' + sys.modules[module].__version__)\n",
    "    except:\n",
    "        print(module + ' has no __version__ attribute')\n"
   ]
  },
  {
   "cell_type": "markdown",
   "metadata": {},
   "source": [
    "## User inputs\n",
    "\n",
    "<font color='blue'> Please follow steps indicated in blue, then run the notebook to generate output files. If the files are formatted as described in the documentation, the code in the 'Functions' section should not need to be altered. </font> "
   ]
  },
  {
   "cell_type": "markdown",
   "metadata": {},
   "source": [
    "### Load input files"
   ]
  },
  {
   "cell_type": "markdown",
   "metadata": {},
   "source": [
    "**Metainformation file** \n",
    "\n",
    "<font color='blue'> <b>Step 1:</b> Create metainformation input file in the following format </font> \n",
    "\n",
    "**Columns**: \n",
    "\n",
    "* **sg** : sg identifier \n",
    "* **sgRNA_sequence** : sequence of sgRNA as designed \n",
    "* **translation_ref_seq**: reference sequence outputted by CRISPResso formatted such that any intronic sequences are lower-case, exons are upper-case, and UTRs are indicated by square brackets (if applicable) <u> must be sequence on strand that is being translated; may not necessarily be the same strand as the sgRNA sequence</u> \n",
    "    * Ex. <font color='grey'>tgtcttttctatgatctctttag</font><font color='green'>GGGTGACCCAGTCTATT</font>\n",
    "* **primer** : name of primer pair (joined by '\\_') used to amplify genomic locus as mentioned in sample name\n",
    "    * Ex. <font color='purple'>F_C12</font><font color = 'blue'><b>_</b></font><font color='green'>R_C12</font>\n",
    "* **frame** : frame for translation (manually determined for each sg / primer pair); position of first coding nucleotide in reference sequence within codon; frame can be 1, 2, 3\n",
    "    * Ex. given reference sequence: tgtcttttctatgatctctttag<font color='green'>**G**</font>G|GTG|ACC|CAG|TCT|ATT \n",
    "        since the first coding nucleotide of the reference sequence (<font color='green'><b>G</b></font>) is the 2nd nucleotide in its codon \n",
    "        (\\_<font color='green'><b>G</b></font>G) &rightarrow; frame = 2\n",
    "* **first_codon** : first codon for translation \n",
    "* **last_codon** : last codon for translation \n",
    "* **rev_com** : samples for which reference sequence is on reverse strand \n",
    "* **BEV_ref** : reference sample(s) for log-fold change (LFC) calculation (i.e. early time point, empty vector, etc.); if multiple BEV numbers are given, they should be separated by ';', and they will be treated as replicates that will be averaged\n",
    "* **BEV_test** : test sample(s) for LFC calculation; if multiple BEV numbers are given, they should be separated by ';', and they will be treated as replicates that will be averaged\n",
    "\n",
    "**Example input:**\n",
    "\n",
    "\n",
    "| sg      | sgRNA_sequence       | translation_ref_seq                                  | primer        | frame | first_codon| last_codon| rev_com | BEV_ref | BEV_test |\n",
    "| ------- | -------------------- | ---------------------------------------- | ------------- |  ----|----|---: | ------: | ------- | -------- |\n",
    "| 397   | GTCACCCCTAAAGAGATCAT | tgtcttttctatgatctctttagGGGTGACCCAGTCTATT |F_C12_R_C12 |  2    |TGG|ATT| True    | 5;6     | 9;10     |\n"
   ]
  },
  {
   "cell_type": "markdown",
   "metadata": {},
   "source": [
    "<font color='blue'> <b> Step 1: </b> Enter filepath to metainformation input file here </font> "
   ]
  },
  {
   "cell_type": "code",
   "execution_count": 15,
   "metadata": {
    "scrolled": true
   },
   "outputs": [
    {
     "data": {
      "text/html": [
       "<div>\n",
       "<style scoped>\n",
       "    .dataframe tbody tr th:only-of-type {\n",
       "        vertical-align: middle;\n",
       "    }\n",
       "\n",
       "    .dataframe tbody tr th {\n",
       "        vertical-align: top;\n",
       "    }\n",
       "\n",
       "    .dataframe thead th {\n",
       "        text-align: right;\n",
       "    }\n",
       "</style>\n",
       "<table border=\"1\" class=\"dataframe\">\n",
       "  <thead>\n",
       "    <tr style=\"text-align: right;\">\n",
       "      <th></th>\n",
       "      <th>sg</th>\n",
       "      <th>sgRNA_sequence</th>\n",
       "      <th>translation_ref_seq</th>\n",
       "      <th>primer</th>\n",
       "      <th>frame</th>\n",
       "      <th>first_codon</th>\n",
       "      <th>last_codon</th>\n",
       "      <th>rev_com</th>\n",
       "      <th>BEV_ref</th>\n",
       "      <th>BEV_test</th>\n",
       "    </tr>\n",
       "  </thead>\n",
       "  <tbody>\n",
       "    <tr>\n",
       "      <th>0</th>\n",
       "      <td>RNAtest_sample</td>\n",
       "      <td>GGTTGAGAATCCCTGCTTGA</td>\n",
       "      <td>[CGCTCAGCCCCGATGAACCCCTAAACCACAGGTTGAGAATCCCTGCTTGAAGATCAGAAGTTCCAATGCTGGATTACGTC]</td>\n",
       "      <td>NaN</td>\n",
       "      <td>NaN</td>\n",
       "      <td>NaN</td>\n",
       "      <td>NaN</td>\n",
       "      <td>NaN</td>\n",
       "      <td>3</td>\n",
       "      <td>6</td>\n",
       "    </tr>\n",
       "  </tbody>\n",
       "</table>\n",
       "</div>"
      ],
      "text/plain": [
       "               sg        sgRNA_sequence  \\\n",
       "0  RNAtest_sample  GGTTGAGAATCCCTGCTTGA   \n",
       "\n",
       "                                                                  translation_ref_seq  \\\n",
       "0  [CGCTCAGCCCCGATGAACCCCTAAACCACAGGTTGAGAATCCCTGCTTGAAGATCAGAAGTTCCAATGCTGGATTACGTC]   \n",
       "\n",
       "   primer  frame  first_codon  last_codon  rev_com  BEV_ref  BEV_test  \n",
       "0     NaN    NaN          NaN         NaN      NaN        3         6  "
      ]
     },
     "execution_count": 15,
     "metadata": {},
     "output_type": "execute_result"
    }
   ],
   "source": [
    "# input_file = pd.read_csv('../../RNAtest_BEV_metainformationV1.csv').head(1)\n",
    "input_filepath = input(\"Please enter input filepath here: \")\n",
    "input_file = pd.read_csv(input_filepath)\n",
    "\n",
    "input_file"
   ]
  },
  {
   "cell_type": "code",
   "execution_count": 16,
   "metadata": {},
   "outputs": [],
   "source": [
    "#check for NaN values i.e. blank rows\n",
    "if input_file.isnull().values.any(): \n",
    "    input_file = nb.clean_input_file(input_file)"
   ]
  },
  {
   "cell_type": "code",
   "execution_count": 17,
   "metadata": {},
   "outputs": [
    {
     "name": "stdout",
     "output_type": "stream",
     "text": [
      "Checking input file...\n"
     ]
    },
    {
     "name": "stderr",
     "output_type": "stream",
     "text": [
      "1it [00:00, 1634.57it/s]"
     ]
    },
    {
     "name": "stdout",
     "output_type": "stream",
     "text": [
      "Guide targets non-coding region\n"
     ]
    },
    {
     "name": "stderr",
     "output_type": "stream",
     "text": [
      "\n"
     ]
    },
    {
     "data": {
      "text/plain": [
       "'Input file is correct!'"
      ]
     },
     "execution_count": 17,
     "metadata": {},
     "output_type": "execute_result"
    }
   ],
   "source": [
    "nb.check_input_file(input_file)"
   ]
  },
  {
   "cell_type": "markdown",
   "metadata": {
    "pycharm": {
     "name": "#%% md\n"
    }
   },
   "source": [
    "**Read Count Filter**"
   ]
  },
  {
   "cell_type": "code",
   "execution_count": 18,
   "metadata": {
    "pycharm": {
     "name": "#%%\n"
    }
   },
   "outputs": [
    {
     "name": "stdout",
     "output_type": "stream",
     "text": [
      "Please enter percent to use for filtering low read counts here. Common cutoffs are 1-2%. 1\n"
     ]
    }
   ],
   "source": [
    "global read_count_percent_cutoff\n",
    "read_count_percent_cutoff_input = input(\"Please enter percent to use for filtering low read counts here. \"\n",
    "                                  \"Common cutoffs are 1-2%. \")\n",
    "read_count_percent_cutoff = float(read_count_percent_cutoff_input)"
   ]
  },
  {
   "cell_type": "markdown",
   "metadata": {},
   "source": [
    "**Correlation Metainformation file** \n",
    "\n",
    "<font color='blue'><b>Step 3:</b> Create correlation input file in the following format  </font> \n",
    "\n",
    "**Columns**: \n",
    "\n",
    "* **sg** : sg identifier \n",
    "* **reps_for_correlation** : semicolon-separated BEV numbers of which to calculate the pairwise Pearson correlation of the log-normalized read counts\n",
    "\n",
    "**Example input:**\n",
    "    \n",
    "| sg      | reps_for_correlation |\n",
    "| ------- | -------------------: | \n",
    "| 397     | 7;8 | \n",
    "| 397     | 9;10 | \n",
    "| 397     | 11;12 | \n"
   ]
  },
  {
   "cell_type": "markdown",
   "metadata": {},
   "source": [
    "<font color='blue'><b>Step 4:</b> Enter filepath to correlation input file here. If you do not have one, please leave the field blank and press <kbd>return</kbd> or <kbd>enter</kbd>  </font> "
   ]
  },
  {
   "cell_type": "code",
   "execution_count": 19,
   "metadata": {
    "scrolled": true
   },
   "outputs": [
    {
     "name": "stdout",
     "output_type": "stream",
     "text": [
      "Please enter correlation input filepath here: \n",
      "No correlation input file.\n"
     ]
    }
   ],
   "source": [
    "# corr_input = pd.read_csv('../../AudreyData/TP53/SampleCorrelation_input_TP53_ABE.csv')\n",
    "corr_corr_inputpath = input(\"Please enter correlation input filepath here: \")\n",
    "if corr_corr_inputpath == '':\n",
    "    corr_input = None\n",
    "    print('No correlation input file.')\n",
    "else:\n",
    "    corr_input = pd.read_csv(corr_corr_inputpath)\n",
    "    corr_input.head()"
   ]
  },
  {
   "cell_type": "markdown",
   "metadata": {},
   "source": [
    "### Specify folder filepaths "
   ]
  },
  {
   "cell_type": "markdown",
   "metadata": {},
   "source": [
    "<font color='blue'><b>Step 5:</b> Enter filepath to folder containing CRISPResso output files here. Please make sure that the filepath does not begin with a '/' but does end in a '/'.  </font> \n",
    "\n",
    "Please note that each folder containing CRISPResso output files for individual samples within the given folder should be named in the format 'CRISPResso_on_'+bev+'\\_'+\n",
    "primer, where bev = ('BEV' or 'NGBEV') + sample_number and primer = primer name. \n",
    "Ex. <font color='grey'>CRISPResso_on</font><font color='purple'>_BEV_001</font><font color='green'>_F2_R2</font>"
   ]
  },
  {
   "cell_type": "code",
   "execution_count": 20,
   "metadata": {},
   "outputs": [
    {
     "name": "stdout",
     "output_type": "stream",
     "text": [
      "Please enter either 'BEV' or 'NGBEV' to indicate which string is used when naming your CRISPResso files.BEV\n"
     ]
    }
   ],
   "source": [
    "global bev_string_id\n",
    "bev_string_id = input('Please enter either \\'BEV\\' or \\'NGBEV\\' to indicate which string is used when naming your CRISPResso files.')\n",
    "if ((bev_string_id != 'BEV') and (bev_string_id != 'NGBEV')):\n",
    "    raise Exception('Invalid input. Please enter either \\'BEV\\' or \\'NGBEV\\' to specify which string is used in CRISPResso file names. Be careful not to add any extra spaces.')\n",
    "\n"
   ]
  },
  {
   "cell_type": "code",
   "execution_count": 21,
   "metadata": {
    "scrolled": true
   },
   "outputs": [
    {
     "name": "stdout",
     "output_type": "stream",
     "text": [
      "../../RJS_RNAtest_crispresso-output/CRISPRessoBatch_on_RJS_Meljuso_CD274_RNAtest_batch/\n"
     ]
    }
   ],
   "source": [
    "global CRISPResso_filepath \n",
    "# CRISPResso_filepath = '../../RJS_RNAtest_crispresso-output/CRISPRessoBatch_on_RJS_Meljuso_CD274_RNAtest_batch/'\n",
    "CRISPResso_filepath = input(\"Please enter CRISPResso filepath here: \")\n",
    "CRISPResso_filepath = nb.check_folder_filepath(CRISPResso_filepath)\n",
    "print(CRISPResso_filepath)"
   ]
  },
  {
   "cell_type": "markdown",
   "metadata": {},
   "source": [
    "<font color='blue'><b>Step 6:</b> Enter filepath to folder where the files generated by this notebook will be stored. Please make sure that the filepath does not begin with a '/' but does end in a '/'. If the folders in this file path do not currently exist, they will be created when the notebook is run.  </font> "
   ]
  },
  {
   "cell_type": "code",
   "execution_count": 22,
   "metadata": {
    "scrolled": true
   },
   "outputs": [
    {
     "name": "stdout",
     "output_type": "stream",
     "text": [
      "../../RemovingPrimerInput_NotebookUpdate/allele_freq/\n"
     ]
    }
   ],
   "source": [
    "# Filepath to store allele_freq output tables \n",
    "global output_filepath \n",
    "# output_filepath = '../../RemovingPrimerInput_NotebookUpdate/allele_freq'\n",
    "output_filepath = input(\"Please enter output folder filepath here: \")\n",
    "output_filepath = nb.check_folder_filepath(output_filepath)\n",
    "print(output_filepath)"
   ]
  },
  {
   "cell_type": "markdown",
   "metadata": {},
   "source": [
    "### Run functions"
   ]
  },
  {
   "cell_type": "markdown",
   "metadata": {},
   "source": [
    "Now, we run the two input files and produce allele tables for all sgRNAs."
   ]
  },
  {
   "cell_type": "code",
   "execution_count": 23,
   "metadata": {},
   "outputs": [
    {
     "name": "stdout",
     "output_type": "stream",
     "text": [
      "RNAtest_sample\n",
      "[3, 6]\n",
      "../../RJS_RNAtest_crispresso-output/CRISPRessoBatch_on_RJS_Meljuso_CD274_RNAtest_batch/CRISPResso_on_BEV_003/Alleles_frequency_table_around_sgRNA_GGTTGAGAATCCCTGCTTGA.txt\n",
      "../../RJS_RNAtest_crispresso-output/CRISPRessoBatch_on_RJS_Meljuso_CD274_RNAtest_batch/CRISPResso_on_BEV_006/Alleles_frequency_table_around_sgRNA_GGTTGAGAATCCCTGCTTGA.txt\n",
      "                                                                   Aligned_Sequence  \\\n",
      "0  --------------------------CACAGGTTGGGAATCCCAGCTTGAAGATCAGAAGTTCCAATGCTGGATTACGTC   \n",
      "1  --------------------------CACAGGTTGGGAATCCCTGCTTGAAGATCAGAAGGTCCAATGCTGGATTACGTC   \n",
      "\n",
      "                                                                 Reference_Sequence  \\\n",
      "0  CGCTCAGCCCCGATGAACCCCTAAACCACAGGTTGAGAATCCCTGCTTGAAGATCAGAAGTTCCAATGCTGGATTACGTC   \n",
      "1  CGCTCAGCCCCGATGAACCCCTAAACCACAGGTTGAGAATCCCTGCTTGAAGATCAGAAGTTCCAATGCTGGATTACGTC   \n",
      "\n",
      "   #Reads_BEV_003  %Reads_BEV_003  #Reads_BEV_006  %Reads_BEV_006  \n",
      "0             1.0        0.000155             0.0             0.0  \n",
      "1             1.0        0.000155             0.0             0.0  \n",
      "['%Reads_BEV_003', '%Reads_BEV_006']\n",
      "only UTRs exist\n",
      "3\n",
      "num rows in merge df: 85601\n",
      "                                                                       Aligned_Sequence  \\\n",
      "10807  GACGTAATCCAGCATTGGAACTTCTGATCTTCAAGCAGGGATTCTCAACCTGTGGTTTAGGGGTTCATCGGGGCTGAGCG   \n",
      "13259  GACGTAATCCAGCATTGGAACTTCTGATCTTCAAGCAGGGATTCCCAACCTGTGGTTTAGGGGTTCATCGGGGCTGAGCG   \n",
      "14603  GACGTAATCCAGCATTGGAACTTCTGATCTTCAAGCAGGGATCCCCAACCTGTGGTTTAGGGGTTCATCGGGGCTGAGCG   \n",
      "\n",
      "                                                                     Reference_Sequence  \\\n",
      "10807  GACGTAATCCAGCATTGGAACTTCTGATCTTCAAGCAGGGATTCTCAACCTGTGGTTTAGGGGTTCATCGGGGCTGAGCG   \n",
      "13259  GACGTAATCCAGCATTGGAACTTCTGATCTTCAAGCAGGGATTCTCAACCTGTGGTTTAGGGGTTCATCGGGGCTGAGCG   \n",
      "14603  GACGTAATCCAGCATTGGAACTTCTGATCTTCAAGCAGGGATTCTCAACCTGTGGTTTAGGGGTTCATCGGGGCTGAGCG   \n",
      "\n",
      "                                                            Aligned_Sequence_Comparison  \\\n",
      "10807  ________________________________________________________________________________   \n",
      "13259  ____________________________________________C___________________________________   \n",
      "14603  __________________________________________C_C___________________________________   \n",
      "\n",
      "       #Reads_BEV_003  %Reads_BEV_003  #Reads_BEV_006  %Reads_BEV_006  \\\n",
      "10807        287439.0       44.497957        487596.0       37.167077   \n",
      "13259        203710.0       31.536008        435568.0       33.201235   \n",
      "14603         43116.0        6.674717        137699.0       10.496127   \n",
      "\n",
      "       #Reads_BEV_003;lognorm  #Reads_BEV_006;lognorm  %read_count_filter  \\\n",
      "10807               18.763383               18.503670                True   \n",
      "13259               18.266645               18.340882                True   \n",
      "14603               16.026441               16.679511                True   \n",
      "\n",
      "       ...  primer frame first_codon last_codon rev_com BEV_ref BEV_test  \\\n",
      "10807  ...     NaN   NaN         NaN        NaN     NaN       3        6   \n",
      "13259  ...     NaN   NaN         NaN        NaN     NaN       3        6   \n",
      "14603  ...     NaN   NaN         NaN        NaN     NaN       3        6   \n",
      "\n",
      "          WT  LFC_006-003  AvgLFC_6  \n",
      "10807   True    -0.259713 -0.259713  \n",
      "13259  False     0.074237  0.074237  \n",
      "14603  False     0.653071  0.653071  \n",
      "\n",
      "[3 rows x 27 columns]\n"
     ]
    }
   ],
   "source": [
    "nb.run(input_file,corr_input, bev_string_id, CRISPResso_filepath, read_count_percent_cutoff, output_filepath)"
   ]
  },
  {
   "cell_type": "markdown",
   "metadata": {},
   "source": [
    "## Heatmap"
   ]
  },
  {
   "cell_type": "markdown",
   "metadata": {},
   "source": [
    "Finally, we generate allele-level heat maps annotated with corresponding allele amino acid sequences and tables with average % reads for each allele at early and late time points."
   ]
  },
  {
   "cell_type": "markdown",
   "metadata": {},
   "source": [
    "By default, early time point samples are considered to be the same as the BEV_ref samples and the late time point samples are considered to be the BEV_test samples. If this is not the case (e.g.,  BEV_test samples span multiple time points), please upload a file with the following columns: \n",
    "\n",
    "**Columns**: \n",
    "\n",
    "* **sg** : sg identifier \n",
    "* **Time point** : string that identifies time point \n",
    "* **BEV_num** : semicolon-separated BEV numbers corresponding to samples at that time point \n",
    "\n",
    "**Example input:**\n",
    "    \n",
    "| sg      |time_point | BEV_nums |\n",
    "| ------- |------- | -------------------: | \n",
    "| 397     |D8      |  7;8 | \n",
    "| 397     |D14      | 9;10 | \n",
    "| 397     |D21      | 11;12 | \n"
   ]
  },
  {
   "cell_type": "code",
   "execution_count": 25,
   "metadata": {},
   "outputs": [],
   "source": [
    "# User inputs column labels and heatmap filename\n",
    "global time1\n",
    "time1 = input(\"Please input the label for the first %Reads column (e.g. D7, low)\")\n",
    "global time2\n",
    "time2 = input(\"Please input the label for the second %Reads column (e.g. D21, high)\")\n",
    "global heatmap_filename\n",
    "heatmap_filename = input(\"Please enter the filename for the heatmap.\")"
   ]
  },
  {
   "cell_type": "code",
   "execution_count": 26,
   "metadata": {},
   "outputs": [
    {
     "name": "stdout",
     "output_type": "stream",
     "text": [
      "../../RemovingPrimerInput_NotebookUpdate/allele_freq/Figures/RNAtest_noprimer_heatmap.pdf\n",
      "+ indicates that there are additional UTR and/or intronic mutations in this allele. Please check the output tables for further details.\n"
     ]
    },
    {
     "data": {
      "image/png": "[encoded data removed]",
      "text/plain": [
       "<Figure size 576x288 with 3 Axes>"
      ]
     },
     "metadata": {},
     "output_type": "display_data"
    }
   ],
   "source": [
    "# Run heatmap function\n",
    "nb.heatmaps(df = input_file,\n",
    "         vmin = -2,\n",
    "         vmax = 2,\n",
    "         filepath = output_filepath,\n",
    "         time1 = time1,\n",
    "         time2 = time2,\n",
    "         filename = heatmap_filename\n",
    "        )"
   ]
  },
  {
   "cell_type": "code",
   "execution_count": null,
   "metadata": {},
   "outputs": [],
   "source": []
  }
 ],
 "metadata": {
  "kernelspec": {
   "display_name": "Python 3 (ipykernel)",
   "language": "python",
   "name": "python3"
  },
  "language_info": {
   "codemirror_mode": {
    "name": "ipython",
    "version": 3
   },
   "file_extension": ".py",
   "mimetype": "text/x-python",
   "name": "python",
   "nbconvert_exporter": "python",
   "pygments_lexer": "ipython3",
   "version": "3.7.6"
  },
  "toc": {
   "base_numbering": 1,
   "nav_menu": {},
   "number_sections": true,
   "sideBar": true,
   "skip_h1_title": false,
   "title_cell": "Table of Contents",
   "title_sidebar": "Contents",
   "toc_cell": false,
   "toc_position": {
    "height": "calc(100% - 180px)",
    "left": "10px",
    "top": "150px",
    "width": "334.797px"
   },
   "toc_section_display": true,
   "toc_window_display": true
  },
  "varInspector": {
   "cols": {
    "lenName": 16,
    "lenType": 16,
    "lenVar": 40
   },
   "kernels_config": {
    "python": {
     "delete_cmd_postfix": "",
     "delete_cmd_prefix": "del ",
     "library": "var_list.py",
     "varRefreshCmd": "print(var_dic_list())"
    },
    "r": {
     "delete_cmd_postfix": ") ",
     "delete_cmd_prefix": "rm(",
     "library": "var_list.r",
     "varRefreshCmd": "cat(var_dic_list()) "
    }
   },
   "types_to_exclude": [
    "module",
    "function",
    "builtin_function_or_method",
    "instance",
    "_Feature"
   ],
   "window_display": false
  }
 },
 "nbformat": 4,
 "nbformat_minor": 4
}