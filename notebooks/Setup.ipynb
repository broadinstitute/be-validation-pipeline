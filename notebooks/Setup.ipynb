{
 "cells": [
  {
   "cell_type": "raw",
   "metadata": {},
   "source": [
    "<script>\n",
    "  function code_toggle() {\n",
    "    if (code_shown){\n",
    "      $('div.input').hide('500');\n",
    "      $('#toggleButton').val('Show Code')\n",
    "    } else {\n",
    "      $('div.input').show('500');\n",
    "      $('#toggleButton').val('Hide Code')\n",
    "    }\n",
    "    code_shown = !code_shown\n",
    "  }\n",
    "\n",
    "  $( document ).ready(function(){\n",
    "    code_shown=false;\n",
    "    $('div.input').hide()\n",
    "  });\n",
    "</script>\n",
    "<form action=\"javascript:code_toggle()\"><input type=\"submit\" id=\"toggleButton\" value=\"Show Code\"></form>"
   ]
  },
  {
   "cell_type": "code",
   "execution_count": 4,
   "metadata": {},
   "outputs": [],
   "source": [
    "import pandas as pd\n",
    "import numpy as np\n",
    "import matplotlib.pyplot as plt\n",
    "import seaborn as sns\n",
    "import gpplot as gpp\n",
    "import csv, requests, warnings, os, urllib3, sys, hashlib, subprocess\n",
    "from zipfile import ZipFile\n",
    "from io import StringIO \n",
    "sys.path.append('../scripts/')\n",
    "import download_demult_files as down\n",
    "warnings.filterwarnings(\"ignore\")"
   ]
  },
  {
   "cell_type": "code",
   "execution_count": 49,
   "metadata": {},
   "outputs": [],
   "source": [
    "def get_inputs():\n",
    "    username = input(\"Enter the username provided by WalkUp:\")\n",
    "    password = input(\"Enter the password provided by WalkUp:\")\n",
    "    url = input(\"Enter the URL provided by WalkUp:\")\n",
    "    outputname = input(\"Enter the name of the output folder to save demultiplexed files in:\")\n",
    "    outputpath = input(\"Path to output folder to save demultiplexed files in (Do not include the name of the folder itself)'):\")\n",
    "    return username, password, url, outputname, outputpath\n",
    "\n",
    "def download_locally():\n",
    "    username, password, url, outputname, outputpath = get_inputs()\n",
    "    dir_cmd = 'mkdir '+outputpath+'/'+outputname\n",
    "    print('Creating directory...')\n",
    "    os.system(dir_cmd)\n",
    "    cmd = 'wget --tries=10 --continue --mirror --user '+ username +' --password '+ password +\\\n",
    "    ' --no-check-certificate '+ url +' -P '+outputpath+'/'+outputname\n",
    "    try:\n",
    "        sys.path.append('/usr/local/bin/')\n",
    "        print('Downloading files...')\n",
    "        os.system(cmd)\n",
    "        print('Files downloaded...')\n",
    "    except:\n",
    "        sys.exit()\n",
    "    return outputname, outputpath, username\n",
    "\n",
    "# def upload_Gdrive(in_path, outputname, username):\n",
    "#     out_path = \"/Volumes/GoogleDrive/Shared drives/GPP Cloud /R&D/Sequencing_Backup/\"\n",
    "#     exist_folders = os.listdir(out_path)\n",
    "#     if outputname not in exist_folders:\n",
    "#         cmd = 'mkdir \\\"'+out_path+outputname+'\\\"'\n",
    "#         try:\n",
    "#             print('Creating directory...')\n",
    "#             os.system(cmd)\n",
    "#         except:\n",
    "#             sys.exit('Error creating output folder')\n",
    "#     else:\n",
    "#         print('Folder exists; adding files to it')\n",
    "#     cmd = 'cp -r \\\"'+in_path+outputname+'\\\" \\\"'+out_path+outputname+'\\\"'\n",
    "#     try:\n",
    "#         print('Backing up files...')\n",
    "#         os.system(cmd)\n",
    "#         val = check_md5(in_path,outputname,out_path,username)\n",
    "#         print('Files moved and MD5 checksums verified')\n",
    "#     except:\n",
    "#         sys.exit('Error transferring files')\n",
    "#     return\n",
    "\n",
    "def upload_Gdrive(in_path, outputname, username):\n",
    "    out_path = \"R&D/Sequencing_Backup/\"\n",
    "    year_folder = input('Please enter the year of sequencing:')\n",
    "    out_path = out_path+year_folder+'/'\n",
    "    cmd = 'rclone copy \\\"'+in_path+outputname+'\\\" remote:\\\"'+out_path+outputname+'\\\"'\n",
    "    try:\n",
    "        print('Backing up files...')\n",
    "        os.system(cmd)\n",
    "        val = check_md5(in_path,outputname,'/Volumes/GoogleDrive/Shared drives/GPP Cloud /'+out_path,username)\n",
    "        print('Files moved and MD5 checksums verified')\n",
    "        #Removing local copy\n",
    "        cmd = 'rm -r \\\"'+in_path+outputname+'\\\"'\n",
    "        os.system(cmd)\n",
    "    except:\n",
    "        sys.exit('Error transferring files')\n",
    "    return\n",
    "\n",
    "def check_md5(in_path, foldername, out_path, username):\n",
    "    in_folder = in_path+'/'+foldername+'/get.broadinstitute.org/pkgs/'+username\n",
    "    out_folder = out_path+'/'+foldername+'/get.broadinstitute.org/pkgs/'+username\n",
    "    in_files = os.listdir(in_folder)\n",
    "    in_files = [x for x in in_files if 'fastq' in x]\n",
    "    print(in_files)\n",
    "    #out_files = os.listdir(out_folder)\n",
    "    for f in in_files:\n",
    "        print(f)\n",
    "        #out_file = [x for x in out_files if x==f][0]\n",
    "        try:\n",
    "            assert(hashlib.md5(open(in_folder+'/'+f,'rb').read()).hexdigest() == hashlib.md5(open(out_folder+'/'+f,'rb').read()).hexdigest())\n",
    "        except AssertionError:\n",
    "            print('MD5 checksums do not match;'+f)\n",
    "    return \n",
    "\n",
    "def run_dplex():\n",
    "    #dplex_path = '/Volumes/GoogleDrive/Shared drives/GPP Cloud /Informatics/Tools/'\n",
    "    dplex_path = '/Volumes/rnai_software/bin/dplex-0.1.0'\n",
    "    cond_file = input('Please enter the path to the .csv conditions file:')\n",
    "    inputfolder = input('Please enter path to the inputfolder:')\n",
    "    username = input('Please enter the username:')\n",
    "    outputfolder = inputfolder+'/demultiplexed/'\n",
    "    print(outputfolder)\n",
    "    #cmd = 'mkdir '+outputfolder\n",
    "    #os.system(cmd)\n",
    "    file_folder = inputfolder+'/get.broadinstitute.org/pkgs/'+username+'/'\n",
    "    print(file_folder)\n",
    "    files = os.listdir(file_folder)\n",
    "    barcode_file = [x for x in files if 'barcode' in x][0]\n",
    "    print(barcode_file)\n",
    "    construct_file = [x for x in files if ('fastq' in x) and ('barcode' not in x)][0]\n",
    "    print(construct_file)\n",
    "    cmd = 'java -jar \\\"'+dplex_path+'\\\" -c '+cond_file+' -1 \\\"'+file_folder+'/'+barcode_file+'\\\" -2 \\\"'+file_folder+'/'+construct_file+'\\\" -z -o \\\"'+outputfolder+'\\\"'\n",
    "    #os.system(cmd)\n",
    "    subprocess.run([cmd],capture_output=True)\n",
    "    return\n",
    "\n",
    "def run_fastqc():\n",
    "    fastqc_in_folder = input('Please enter the path to the folder with files for FASTQC:')\n",
    "    fastqc_out_folder = input('Please enter the name of the output folder:')\n",
    "    year_folder = input('Please enter year of sequencing:')\n",
    "    check_year = os.listdir(\"/Volumes/GoogleDrive/Shared drives/GPP Cloud /R&D/FASTQC_outputs/\")\n",
    "    if year_folder not in check_year:\n",
    "        os.system('mkdir \"/Volumes/GoogleDrive/Shared drives/GPP Cloud /R&D/FASTQC_outputs/\"'+year_folder)\n",
    "    fastqc_in_files = os.listdir(fastqc_in_folder)\n",
    "    fastqc_in_files = [x for x in fastqc_in_files if ('fastq' in x)&('barcode' not in x)]\n",
    "    print(fastqc_in_files)\n",
    "    for f in fastqc_in_files:\n",
    "        cmd = 'mkdir \"/Volumes/GoogleDrive/Shared drives/GPP Cloud /R&D/FASTQC_outputs/'+year_folder+'/'+fastqc_out_folder+'\"'\n",
    "        os.system(cmd)\n",
    "        cmd = 'fastqc \"'+fastqc_in_folder+'/'+f+'\" -o \"/Volumes/GoogleDrive/Shared drives/GPP Cloud /R&D/FASTQC_outputs/'+year_folder+'/'+fastqc_out_folder+'\"'\n",
    "        os.system(cmd)\n",
    "    return fastqc_out_folder\n",
    "\n",
    "def agg_fastqc(fastqc_out_folder):\n",
    "    outputfile = fastqc_out_folder+'/quality_summary.txt'\n",
    "    fastqc_outputs = [x for x in os.listdir(fastqc_out_folder) if 'fastqc.zip' in x]\n",
    "    with open(outputfile, 'w') as o:\n",
    "        w = csv.writer(o, delimiter='\\t')\n",
    "        colnames = ['Sample','Average read quality','Median read quality']\n",
    "        i=0\n",
    "        for fo in fastqc_outputs:\n",
    "            z = ZipFile(fastqc_out_folder+'/'+fo,'r')\n",
    "            for f in z.namelist():\n",
    "                if 'fastqc_data.txt' in f:\n",
    "                    df = z.read(f).decode(\"utf-8\")\n",
    "                    for d in df.split('>>'):\n",
    "                        if d.startswith('Per base sequence quality'):\n",
    "                            StringData = StringIO(d)\n",
    "                            df = pd.read_csv(StringData, sep =\"\\t\",header=1)\n",
    "                            sub_df = df[['#Base','Mean']].set_index('#Base').T\n",
    "                            avg = df.Mean.mean()\n",
    "                            med = df.Median.median()\n",
    "                            row = [f.split('/')[0],avg,med]\n",
    "                            row.extend(sub_df.loc['Mean',:].to_list())\n",
    "                            if i == 0:\n",
    "                                colnames.extend(sub_df.columns.to_list())\n",
    "                                i+=1\n",
    "                                w.writerow(colnames)\n",
    "                            w.writerow(row)\n",
    "                        else:\n",
    "                            continue\n",
    "        "
   ]
  },
  {
   "cell_type": "markdown",
   "metadata": {},
   "source": [
    "This notebook will help set up input files for running CRISPResso. If you are running this notebook for the first time, before running this notebook, please make sure you:\n",
    "<ol>\n",
    "    <li>Install Homebrew on your system by pasting the following command on your terminal:\n",
    "    <b>/bin/bash -c \"$(curl -fsSL https://raw.githubusercontent.com/Homebrew/install/HEAD/install.sh)\"</b></li>\n",
    "    <li>Once Homebrew is installed, install wget by typing <b>brew install wget</b> on the terminal. wget helps download files from the WalkUp sequencing server.</li>\n",
    "</ol>\n",
    "\n",
    "## Downloading sequencing files\n",
    "\n",
    "We will first download files on to our machine. "
   ]
  },
  {
   "cell_type": "code",
   "execution_count": 5,
   "metadata": {},
   "outputs": [
    {
     "name": "stdout",
     "output_type": "stream",
     "text": [
      "Enter the username provided by WalkUp:SN0214918\n",
      "Enter the password provided by WalkUp:ziy9YStJGOc3\n",
      "Enter the URL provided by WalkUp:https://get.broadinstitute.org/pkgs/SN0214918/\n",
      "Enter the name of the output folder to save demultiplexed files inZMS_BCV_20210205\n",
      "Path to output folder to save demultiplexed files in (Do not include the name of the folder itself)')/Users/mhegde/Desktop/test_download/\n",
      "Creating directory...\n",
      "Downloading files...\n",
      "Files downloaded...\n"
     ]
    }
   ],
   "source": [
    "outputname, outputpath, username = download_locally()"
   ]
  },
  {
   "cell_type": "markdown",
   "metadata": {},
   "source": [
    "## Backing up on GDrive"
   ]
  },
  {
   "cell_type": "code",
   "execution_count": 6,
   "metadata": {},
   "outputs": [
    {
     "name": "stdout",
     "output_type": "stream",
     "text": [
      "Backing up files...\n",
      "['1_JF3CL.1.barcode_1.fastq.gz', '1_JF3CL.1.1.fastq.gz']\n",
      "1_JF3CL.1.barcode_1.fastq.gz\n",
      "1_JF3CL.1.1.fastq.gz\n",
      "Files moved and MD5 checksums verified\n"
     ]
    }
   ],
   "source": [
    "upload_Gdrive(outputpath, outputname, username)"
   ]
  },
  {
   "cell_type": "code",
   "execution_count": 35,
   "metadata": {},
   "outputs": [],
   "source": [
    "# gauth = GoogleAuth()\n",
    "# gauth.LocalWebserverAuth()\n",
    "# drive = GoogleDrive(gauth)"
   ]
  },
  {
   "cell_type": "code",
   "execution_count": 64,
   "metadata": {},
   "outputs": [],
   "source": [
    "# fileList = drive.ListFile({'q':\"'1uMXOLjvfY9TNlhwj0fVcTp6k2-heQe0c' in parents and trashed=false\", \n",
    "#                            'corpora': 'teamDrive', \n",
    "#                            'teamDriveId': '0ABXsHzY7MltDUk9PVA', \n",
    "#                            'includeTeamDriveItems': True, \n",
    "#                            'supportsTeamDrives': True}).GetList()\n",
    "# for file in fileList:\n",
    "#     print('Title: %s, ID: %s' % (file['title'], file['id']))\n",
    "#       # Get the folder ID that you want\n",
    "#     if(file['title'] == \"Sequencing_Backup\"):\n",
    "#         fileID = file['id']\n",
    "#         print(fileID)"
   ]
  },
  {
   "cell_type": "markdown",
   "metadata": {},
   "source": [
    "## Demultiplexing\n",
    "\n",
    "If the sequencing files have not been demultiplexed, run this."
   ]
  },
  {
   "cell_type": "code",
   "execution_count": 43,
   "metadata": {},
   "outputs": [
    {
     "name": "stdout",
     "output_type": "stream",
     "text": [
      "Please enter the path to the .csv conditions file:/Users/mhegde/Desktop/2021-02-09_CTNNB1_Conditions_File.csv\n",
      "Please enter path to the inputfolder:/Volumes/GoogleDrive/Shared drives/GPP Cloud /R&D/Sequencing_Backup/2021/ZMS_BCV_20210205\n",
      "Please enter the username:SN0214918\n",
      "/Volumes/GoogleDrive/Shared drives/GPP Cloud /R&D/Sequencing_Backup/2021/ZMS_BCV_20210205/demultiplexed/\n",
      "/Volumes/GoogleDrive/Shared drives/GPP Cloud /R&D/Sequencing_Backup/2021/ZMS_BCV_20210205/get.broadinstitute.org/pkgs/SN0214918/\n",
      "1_JF3CL.1.barcode_1.fastq.gz\n",
      "1_JF3CL.1.1.fastq.gz\n"
     ]
    },
    {
     "ename": "FileNotFoundError",
     "evalue": "[Errno 2] No such file or directory: 'java -jar \"/Volumes/rnai_software/bin/dplex-0.1.0\" -c /Users/mhegde/Desktop/2021-02-09_CTNNB1_Conditions_File.csv -1 \"/Volumes/GoogleDrive/Shared drives/GPP Cloud /R&D/Sequencing_Backup/2021/ZMS_BCV_20210205/get.broadinstitute.org/pkgs/SN0214918//1_JF3CL.1.barcode_1.fastq.gz\" -2 \"/Volumes/GoogleDrive/Shared drives/GPP Cloud /R&D/Sequencing_Backup/2021/ZMS_BCV_20210205/get.broadinstitute.org/pkgs/SN0214918//1_JF3CL.1.1.fastq.gz\" -z -o \"/Volumes/GoogleDrive/Shared drives/GPP Cloud /R&D/Sequencing_Backup/2021/ZMS_BCV_20210205/demultiplexed/\"'",
     "output_type": "error",
     "traceback": [
      "\u001b[0;31m---------------------------------------------------------------------------\u001b[0m",
      "\u001b[0;31mFileNotFoundError\u001b[0m                         Traceback (most recent call last)",
      "\u001b[0;32m<ipython-input-43-e9715b53e189>\u001b[0m in \u001b[0;36m<module>\u001b[0;34m\u001b[0m\n\u001b[0;32m----> 1\u001b[0;31m \u001b[0mrun_dplex\u001b[0m\u001b[0;34m(\u001b[0m\u001b[0;34m)\u001b[0m\u001b[0;34m\u001b[0m\u001b[0;34m\u001b[0m\u001b[0m\n\u001b[0m",
      "\u001b[0;32m<ipython-input-42-b6aafe56b569>\u001b[0m in \u001b[0;36mrun_dplex\u001b[0;34m()\u001b[0m\n\u001b[1;32m     97\u001b[0m     \u001b[0mcmd\u001b[0m \u001b[0;34m=\u001b[0m \u001b[0;34m'java -jar \\\"'\u001b[0m\u001b[0;34m+\u001b[0m\u001b[0mdplex_path\u001b[0m\u001b[0;34m+\u001b[0m\u001b[0;34m'\\\" -c '\u001b[0m\u001b[0;34m+\u001b[0m\u001b[0mcond_file\u001b[0m\u001b[0;34m+\u001b[0m\u001b[0;34m' -1 \\\"'\u001b[0m\u001b[0;34m+\u001b[0m\u001b[0mfile_folder\u001b[0m\u001b[0;34m+\u001b[0m\u001b[0;34m'/'\u001b[0m\u001b[0;34m+\u001b[0m\u001b[0mbarcode_file\u001b[0m\u001b[0;34m+\u001b[0m\u001b[0;34m'\\\" -2 \\\"'\u001b[0m\u001b[0;34m+\u001b[0m\u001b[0mfile_folder\u001b[0m\u001b[0;34m+\u001b[0m\u001b[0;34m'/'\u001b[0m\u001b[0;34m+\u001b[0m\u001b[0mconstruct_file\u001b[0m\u001b[0;34m+\u001b[0m\u001b[0;34m'\\\" -z -o \\\"'\u001b[0m\u001b[0;34m+\u001b[0m\u001b[0moutputfolder\u001b[0m\u001b[0;34m+\u001b[0m\u001b[0;34m'\\\"'\u001b[0m\u001b[0;34m\u001b[0m\u001b[0;34m\u001b[0m\u001b[0m\n\u001b[1;32m     98\u001b[0m     \u001b[0;31m#os.system(cmd)\u001b[0m\u001b[0;34m\u001b[0m\u001b[0;34m\u001b[0m\u001b[0;34m\u001b[0m\u001b[0m\n\u001b[0;32m---> 99\u001b[0;31m     \u001b[0msubprocess\u001b[0m\u001b[0;34m.\u001b[0m\u001b[0mrun\u001b[0m\u001b[0;34m(\u001b[0m\u001b[0;34m[\u001b[0m\u001b[0mcmd\u001b[0m\u001b[0;34m]\u001b[0m\u001b[0;34m,\u001b[0m\u001b[0mcapture_output\u001b[0m\u001b[0;34m=\u001b[0m\u001b[0;32mTrue\u001b[0m\u001b[0;34m)\u001b[0m\u001b[0;34m\u001b[0m\u001b[0;34m\u001b[0m\u001b[0m\n\u001b[0m\u001b[1;32m    100\u001b[0m     \u001b[0;32mreturn\u001b[0m\u001b[0;34m\u001b[0m\u001b[0;34m\u001b[0m\u001b[0m\n\u001b[1;32m    101\u001b[0m \u001b[0;34m\u001b[0m\u001b[0m\n",
      "\u001b[0;32m~/opt/anaconda3/lib/python3.8/subprocess.py\u001b[0m in \u001b[0;36mrun\u001b[0;34m(input, capture_output, timeout, check, *popenargs, **kwargs)\u001b[0m\n\u001b[1;32m    487\u001b[0m         \u001b[0mkwargs\u001b[0m\u001b[0;34m[\u001b[0m\u001b[0;34m'stderr'\u001b[0m\u001b[0;34m]\u001b[0m \u001b[0;34m=\u001b[0m \u001b[0mPIPE\u001b[0m\u001b[0;34m\u001b[0m\u001b[0;34m\u001b[0m\u001b[0m\n\u001b[1;32m    488\u001b[0m \u001b[0;34m\u001b[0m\u001b[0m\n\u001b[0;32m--> 489\u001b[0;31m     \u001b[0;32mwith\u001b[0m \u001b[0mPopen\u001b[0m\u001b[0;34m(\u001b[0m\u001b[0;34m*\u001b[0m\u001b[0mpopenargs\u001b[0m\u001b[0;34m,\u001b[0m \u001b[0;34m**\u001b[0m\u001b[0mkwargs\u001b[0m\u001b[0;34m)\u001b[0m \u001b[0;32mas\u001b[0m \u001b[0mprocess\u001b[0m\u001b[0;34m:\u001b[0m\u001b[0;34m\u001b[0m\u001b[0;34m\u001b[0m\u001b[0m\n\u001b[0m\u001b[1;32m    490\u001b[0m         \u001b[0;32mtry\u001b[0m\u001b[0;34m:\u001b[0m\u001b[0;34m\u001b[0m\u001b[0;34m\u001b[0m\u001b[0m\n\u001b[1;32m    491\u001b[0m             \u001b[0mstdout\u001b[0m\u001b[0;34m,\u001b[0m \u001b[0mstderr\u001b[0m \u001b[0;34m=\u001b[0m \u001b[0mprocess\u001b[0m\u001b[0;34m.\u001b[0m\u001b[0mcommunicate\u001b[0m\u001b[0;34m(\u001b[0m\u001b[0minput\u001b[0m\u001b[0;34m,\u001b[0m \u001b[0mtimeout\u001b[0m\u001b[0;34m=\u001b[0m\u001b[0mtimeout\u001b[0m\u001b[0;34m)\u001b[0m\u001b[0;34m\u001b[0m\u001b[0;34m\u001b[0m\u001b[0m\n",
      "\u001b[0;32m~/opt/anaconda3/lib/python3.8/subprocess.py\u001b[0m in \u001b[0;36m__init__\u001b[0;34m(self, args, bufsize, executable, stdin, stdout, stderr, preexec_fn, close_fds, shell, cwd, env, universal_newlines, startupinfo, creationflags, restore_signals, start_new_session, pass_fds, encoding, errors, text)\u001b[0m\n\u001b[1;32m    852\u001b[0m                             encoding=encoding, errors=errors)\n\u001b[1;32m    853\u001b[0m \u001b[0;34m\u001b[0m\u001b[0m\n\u001b[0;32m--> 854\u001b[0;31m             self._execute_child(args, executable, preexec_fn, close_fds,\n\u001b[0m\u001b[1;32m    855\u001b[0m                                 \u001b[0mpass_fds\u001b[0m\u001b[0;34m,\u001b[0m \u001b[0mcwd\u001b[0m\u001b[0;34m,\u001b[0m \u001b[0menv\u001b[0m\u001b[0;34m,\u001b[0m\u001b[0;34m\u001b[0m\u001b[0;34m\u001b[0m\u001b[0m\n\u001b[1;32m    856\u001b[0m                                 \u001b[0mstartupinfo\u001b[0m\u001b[0;34m,\u001b[0m \u001b[0mcreationflags\u001b[0m\u001b[0;34m,\u001b[0m \u001b[0mshell\u001b[0m\u001b[0;34m,\u001b[0m\u001b[0;34m\u001b[0m\u001b[0;34m\u001b[0m\u001b[0m\n",
      "\u001b[0;32m~/opt/anaconda3/lib/python3.8/subprocess.py\u001b[0m in \u001b[0;36m_execute_child\u001b[0;34m(self, args, executable, preexec_fn, close_fds, pass_fds, cwd, env, startupinfo, creationflags, shell, p2cread, p2cwrite, c2pread, c2pwrite, errread, errwrite, restore_signals, start_new_session)\u001b[0m\n\u001b[1;32m   1700\u001b[0m                     \u001b[0;32mif\u001b[0m \u001b[0merrno_num\u001b[0m \u001b[0;34m!=\u001b[0m \u001b[0;36m0\u001b[0m\u001b[0;34m:\u001b[0m\u001b[0;34m\u001b[0m\u001b[0;34m\u001b[0m\u001b[0m\n\u001b[1;32m   1701\u001b[0m                         \u001b[0merr_msg\u001b[0m \u001b[0;34m=\u001b[0m \u001b[0mos\u001b[0m\u001b[0;34m.\u001b[0m\u001b[0mstrerror\u001b[0m\u001b[0;34m(\u001b[0m\u001b[0merrno_num\u001b[0m\u001b[0;34m)\u001b[0m\u001b[0;34m\u001b[0m\u001b[0;34m\u001b[0m\u001b[0m\n\u001b[0;32m-> 1702\u001b[0;31m                     \u001b[0;32mraise\u001b[0m \u001b[0mchild_exception_type\u001b[0m\u001b[0;34m(\u001b[0m\u001b[0merrno_num\u001b[0m\u001b[0;34m,\u001b[0m \u001b[0merr_msg\u001b[0m\u001b[0;34m,\u001b[0m \u001b[0merr_filename\u001b[0m\u001b[0;34m)\u001b[0m\u001b[0;34m\u001b[0m\u001b[0;34m\u001b[0m\u001b[0m\n\u001b[0m\u001b[1;32m   1703\u001b[0m                 \u001b[0;32mraise\u001b[0m \u001b[0mchild_exception_type\u001b[0m\u001b[0;34m(\u001b[0m\u001b[0merr_msg\u001b[0m\u001b[0;34m)\u001b[0m\u001b[0;34m\u001b[0m\u001b[0;34m\u001b[0m\u001b[0m\n\u001b[1;32m   1704\u001b[0m \u001b[0;34m\u001b[0m\u001b[0m\n",
      "\u001b[0;31mFileNotFoundError\u001b[0m: [Errno 2] No such file or directory: 'java -jar \"/Volumes/rnai_software/bin/dplex-0.1.0\" -c /Users/mhegde/Desktop/2021-02-09_CTNNB1_Conditions_File.csv -1 \"/Volumes/GoogleDrive/Shared drives/GPP Cloud /R&D/Sequencing_Backup/2021/ZMS_BCV_20210205/get.broadinstitute.org/pkgs/SN0214918//1_JF3CL.1.barcode_1.fastq.gz\" -2 \"/Volumes/GoogleDrive/Shared drives/GPP Cloud /R&D/Sequencing_Backup/2021/ZMS_BCV_20210205/get.broadinstitute.org/pkgs/SN0214918//1_JF3CL.1.1.fastq.gz\" -z -o \"/Volumes/GoogleDrive/Shared drives/GPP Cloud /R&D/Sequencing_Backup/2021/ZMS_BCV_20210205/demultiplexed/\"'"
     ]
    }
   ],
   "source": [
    "run_dplex()"
   ]
  },
  {
   "cell_type": "markdown",
   "metadata": {},
   "source": [
    "## Running FASTQC"
   ]
  },
  {
   "cell_type": "code",
   "execution_count": 50,
   "metadata": {},
   "outputs": [
    {
     "name": "stdout",
     "output_type": "stream",
     "text": [
      "Please enter the path to the folder with files for FASTQC:/Volumes/GoogleDrive/Shared drives/GPP Cloud /R&D/Sequencing_Backup/2021/ZMS_BCV_20210205/demultiplexed/\n",
      "Please enter the name of the output folder:ZMS_BCV_20210205\n",
      "Please enter year of sequencing:2021\n",
      "['HT29_RDA414_B_14_Dropout.construct.fastq.gz', 'HT29_RDA409_A_14_Dropout.construct.fastq.gz', 'HT29_RDA410_B_14_Dropout.construct.fastq.gz', 'HT29_RDA409_B_14_Dropout.construct.fastq.gz', 'HT29_RDA414_A_14_Dropout.construct.fastq.gz', 'HT29_RDA414_B_7_Dropout.construct.fastq.gz', 'HT29_RDA415_B_14_Dropout.construct.fastq.gz', 'HT29_RDA414_A_7_Dropout.construct.fastq.gz', 'HT29_RDA415_A_14_Dropout.construct.fastq.gz', 'HT29_RDA410_A_14_Dropout.construct.fastq.gz']\n"
     ]
    },
    {
     "data": {
      "text/plain": [
       "'ZMS_BCV_20210205'"
      ]
     },
     "execution_count": 50,
     "metadata": {},
     "output_type": "execute_result"
    }
   ],
   "source": [
    "run_fastqc()"
   ]
  },
  {
   "cell_type": "code",
   "execution_count": 51,
   "metadata": {},
   "outputs": [],
   "source": [
    "agg_fastqc('/Volumes/GoogleDrive/Shared drives/GPP Cloud /R&D/FASTQC_outputs/2021/ZMS_BCV_20210205')"
   ]
  },
  {
   "cell_type": "code",
   "execution_count": null,
   "metadata": {},
   "outputs": [],
   "source": []
  }
 ],
 "metadata": {
  "hide_input": false,
  "kernelspec": {
   "display_name": "Python 3",
   "language": "python",
   "name": "python3"
  },
  "language_info": {
   "codemirror_mode": {
    "name": "ipython",
    "version": 3
   },
   "file_extension": ".py",
   "mimetype": "text/x-python",
   "name": "python",
   "nbconvert_exporter": "python",
   "pygments_lexer": "ipython3",
   "version": "3.8.3"
  },
  "toc": {
   "base_numbering": 1,
   "nav_menu": {},
   "number_sections": true,
   "sideBar": true,
   "skip_h1_title": false,
   "title_cell": "Table of Contents",
   "title_sidebar": "Contents",
   "toc_cell": false,
   "toc_position": {},
   "toc_section_display": true,
   "toc_window_display": true
  },
  "varInspector": {
   "cols": {
    "lenName": 16,
    "lenType": 16,
    "lenVar": 40
   },
   "kernels_config": {
    "python": {
     "delete_cmd_postfix": "",
     "delete_cmd_prefix": "del ",
     "library": "var_list.py",
     "varRefreshCmd": "print(var_dic_list())"
    },
    "r": {
     "delete_cmd_postfix": ") ",
     "delete_cmd_prefix": "rm(",
     "library": "var_list.r",
     "varRefreshCmd": "cat(var_dic_list()) "
    }
   },
   "types_to_exclude": [
    "module",
    "function",
    "builtin_function_or_method",
    "instance",
    "_Feature"
   ],
   "window_display": false
  }
 },
 "nbformat": 4,
 "nbformat_minor": 4
}
