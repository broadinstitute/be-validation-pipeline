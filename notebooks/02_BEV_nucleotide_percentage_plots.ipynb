{
 "cells": [
  {
   "cell_type": "markdown",
   "metadata": {},
   "source": [
    "# Nucleotide percentage plots\n",
    "\n",
    "This notebook contains code to process the \"Nucleotide_percentage_table\" file from the CRISPResso output into a file containing the % of each each nucleotide at each target nucleotide, numbered relative to the sgRNA. It also produces a plot showing the same information (as in Figure S4A, D, G, J)."
   ]
  },
  {
   "cell_type": "code",
   "execution_count": 1,
   "metadata": {},
   "outputs": [],
   "source": [
    "import pandas as pd \n",
    "import numpy as np \n",
    "import matplotlib as mpl\n",
    "import matplotlib.pyplot as plt\n",
    "import seaborn as sns\n",
    "from os import path\n",
    "from pathlib import Path\n",
    "\n",
    "from IPython.display import Javascript, display\n",
    "\n",
    "#import aa_guideseq_visualization as guideseq\n",
    "mpl.rc('pdf', fonttype=42)\n",
    "mpl.rcParams['font.sans-serif'] = \"Arial\"\n",
    "mpl.rcParams['font.family'] = \"sans-serif\""
   ]
  },
  {
   "cell_type": "code",
   "execution_count": 2,
   "metadata": {},
   "outputs": [
    {
     "data": {
      "text/html": [
       "\n",
       "        <script>\n",
       "            function code_toggle_18366812746782211391() {\n",
       "                $('div.cell.code_cell.rendered.selected').find('div.input').toggle();\n",
       "            }\n",
       "\n",
       "            \n",
       "        </script>\n",
       "\n",
       "        <a href=\"javascript:code_toggle_18366812746782211391()\">Show/Hide Toggle Function</a>\n",
       "    "
      ],
      "text/plain": [
       "<IPython.core.display.HTML object>"
      ]
     },
     "execution_count": 2,
     "metadata": {},
     "output_type": "execute_result"
    }
   ],
   "source": [
    "from IPython.display import HTML\n",
    "import random\n",
    "\n",
    "def hide_toggle(toggle_text_addon = '', for_next=False):\n",
    "    this_cell = \"\"\"$('div.cell.code_cell.rendered.selected')\"\"\"\n",
    "    next_cell = this_cell + '.next()'\n",
    "    \n",
    "    toggle_text = 'Show/Hide' + ' ' + toggle_text_addon  # text shown on toggle link\n",
    "    target_cell = this_cell  # target cell to control with toggle\n",
    "    js_hide_current = ''  # bit of JS to permanently hide code in current cell (only when toggling next cell)\n",
    "\n",
    "    if for_next:\n",
    "        target_cell = next_cell\n",
    "        toggle_text += ' next cell'\n",
    "        js_hide_current = this_cell + '.find(\"div.input\").hide();'\n",
    "\n",
    "    js_f_name = 'code_toggle_{}'.format(str(random.randint(1,2**64)))\n",
    "\n",
    "    html = \"\"\"\n",
    "        <script>\n",
    "            function {f_name}() {{\n",
    "                {cell_selector}.find('div.input').toggle();\n",
    "            }}\n",
    "\n",
    "            {js_hide_current}\n",
    "        </script>\n",
    "\n",
    "        <a href=\"javascript:{f_name}()\">{toggle_text}</a>\n",
    "    \"\"\".format(\n",
    "        f_name=js_f_name,\n",
    "        cell_selector=target_cell,\n",
    "        js_hide_current=js_hide_current, \n",
    "        toggle_text=toggle_text\n",
    "    )\n",
    "\n",
    "    return HTML(html)\n",
    "hide_toggle(toggle_text_addon='Toggle Function')"
   ]
  },
  {
   "cell_type": "code",
   "execution_count": 3,
   "metadata": {},
   "outputs": [
    {
     "data": {
      "text/html": [
       "\n",
       "        <script>\n",
       "            function code_toggle_17557985131765196105() {\n",
       "                $('div.cell.code_cell.rendered.selected').find('div.input').toggle();\n",
       "            }\n",
       "\n",
       "            \n",
       "        </script>\n",
       "\n",
       "        <a href=\"javascript:code_toggle_17557985131765196105()\">Show/Hide check_folder_filepath function</a>\n",
       "    "
      ],
      "text/plain": [
       "<IPython.core.display.HTML object>"
      ]
     },
     "execution_count": 3,
     "metadata": {},
     "output_type": "execute_result"
    }
   ],
   "source": [
    "# Check to make sure folder filepaths end in '/' but do not begin with a '/'\n",
    "def check_folder_filepath(filepath):\n",
    "    if filepath[0] == '/':\n",
    "        filepath = filepath[1:]\n",
    "    if filepath[-1] != '/':\n",
    "        filepath = filepath+'/'\n",
    "    return filepath\n",
    "\n",
    "hide_toggle(toggle_text_addon='check_folder_filepath function')"
   ]
  },
  {
   "cell_type": "markdown",
   "metadata": {},
   "source": [
    "## User inputs\n",
    "\n",
    "<font color='blue'> Please follow steps indicated in blue, then run the notebook to generate output files. If the files are formatted as described in the documentation, the code in the 'Functions' section should not need to be altered. </font> "
   ]
  },
  {
   "cell_type": "markdown",
   "metadata": {},
   "source": [
    "**Metainformation file** \n",
    "\n",
    "<font color='blue'> <b>Step 1:</b> Please enter the filepath to the metainformation input file used in the allele frequencies notebook. The same file will be used in this notebook. </font> "
   ]
  },
  {
   "cell_type": "code",
   "execution_count": 4,
   "metadata": {
    "scrolled": false
   },
   "outputs": [
    {
     "name": "stdout",
     "output_type": "stream",
     "text": [
      "Please enter input filepath here: ../../AudreyData/TP53/Metainfo_input_ABE_TP53_fixed_updated_1d_sample.csv\n"
     ]
    },
    {
     "data": {
      "text/html": [
       "<div>\n",
       "<style scoped>\n",
       "    .dataframe tbody tr th:only-of-type {\n",
       "        vertical-align: middle;\n",
       "    }\n",
       "\n",
       "    .dataframe tbody tr th {\n",
       "        vertical-align: top;\n",
       "    }\n",
       "\n",
       "    .dataframe thead th {\n",
       "        text-align: right;\n",
       "    }\n",
       "</style>\n",
       "<table border=\"1\" class=\"dataframe\">\n",
       "  <thead>\n",
       "    <tr style=\"text-align: right;\">\n",
       "      <th></th>\n",
       "      <th>sg</th>\n",
       "      <th>sgRNA_sequence</th>\n",
       "      <th>translation_ref_seq</th>\n",
       "      <th>BEV_start</th>\n",
       "      <th>BEV_end</th>\n",
       "      <th>primer</th>\n",
       "      <th>frame</th>\n",
       "      <th>first_codon</th>\n",
       "      <th>last_codon</th>\n",
       "      <th>rev_com</th>\n",
       "      <th>BEV_ref</th>\n",
       "      <th>BEV_test</th>\n",
       "    </tr>\n",
       "  </thead>\n",
       "  <tbody>\n",
       "    <tr>\n",
       "      <th>0</th>\n",
       "      <td>1d</td>\n",
       "      <td>GCTCCTCCATGGCAGTGACC</td>\n",
       "      <td>[TTCCTCTTGCAGCAGCCAGACTGCCTTCCGGGTCACTGCC]ATGG...</td>\n",
       "      <td>417</td>\n",
       "      <td>426</td>\n",
       "      <td>F3_R2</td>\n",
       "      <td>1</td>\n",
       "      <td>ATG</td>\n",
       "      <td>CTG</td>\n",
       "      <td>True</td>\n",
       "      <td>417;418</td>\n",
       "      <td>425;426</td>\n",
       "    </tr>\n",
       "  </tbody>\n",
       "</table>\n",
       "</div>"
      ],
      "text/plain": [
       "   sg        sgRNA_sequence  \\\n",
       "0  1d  GCTCCTCCATGGCAGTGACC   \n",
       "\n",
       "                                 translation_ref_seq  BEV_start  BEV_end  \\\n",
       "0  [TTCCTCTTGCAGCAGCCAGACTGCCTTCCGGGTCACTGCC]ATGG...        417      426   \n",
       "\n",
       "  primer  frame first_codon last_codon  rev_com  BEV_ref BEV_test  \n",
       "0  F3_R2      1         ATG        CTG     True  417;418  425;426  "
      ]
     },
     "execution_count": 4,
     "metadata": {},
     "output_type": "execute_result"
    }
   ],
   "source": [
    "global input_file\n",
    "# input_filepath = '../../Metainfo_input_CBE_TP53_first_last_codon.csv'\n",
    "input_filepath = input(\"Please enter input filepath here: \")\n",
    "input_file = pd.read_csv(input_filepath)\n",
    "\n",
    "input_file"
   ]
  },
  {
   "cell_type": "markdown",
   "metadata": {},
   "source": [
    "<font color='blue'><b>Step 2:</b> Enter filepath to folder containing CRISPResso output files here. Please make sure that the filepath ends in a '/'.  </font> \n",
    "\n",
    "Please note that each folder containing CRISPResso output files for individual samples within the given folder should be named in the format 'CRISPResso_on_'+bev+'\\_'+\n",
    "primer, where bev = ('BEV' OR 'NGBEV') + sample_number and primer = primer name. \n",
    "Ex. <font color='grey'>CRISPResso_on</font><font color='purple'>_BEV_001</font><font color='green'>_F2_R2</font>"
   ]
  },
  {
   "cell_type": "code",
   "execution_count": 5,
   "metadata": {},
   "outputs": [
    {
     "name": "stdout",
     "output_type": "stream",
     "text": [
      "Please enter either 'BEV' or 'NGBEV' to indicate which string is used when naming your CRISPResso files.NGBEV\n"
     ]
    }
   ],
   "source": [
    "global bev_string_id\n",
    "bev_string_id = input('Please enter either \\'BEV\\' or \\'NGBEV\\' to indicate which string is used when naming your CRISPResso files.')\n",
    "if ((bev_string_id != 'BEV') and (bev_string_id != 'NGBEV')):\n",
    "    raise Exception('Invalid input. Please enter either \\'BEV\\' or \\'NGBEV\\' to specify which string is used in CRISPResso file names. Be careful not to add any extra spaces.')\n"
   ]
  },
  {
   "cell_type": "code",
   "execution_count": 6,
   "metadata": {},
   "outputs": [
    {
     "name": "stdout",
     "output_type": "stream",
     "text": [
      "Please enter CRISPResso filepath here: ../../AudreyData/TP53/TP53_ABE_Sample_CRISPResso/\n",
      "../../AudreyData/TP53/TP53_ABE_Sample_CRISPResso/\n"
     ]
    }
   ],
   "source": [
    "global CRISPResso_filepath\n",
    "# CRISPResso_filepath= \"AudreyData/CRISPRessoBatch_on_F2R1_batch_file_v2/\"\n",
    "CRISPResso_filepath = input(\"Please enter CRISPResso filepath here: \")\n",
    "CRISPResso_filepath = check_folder_filepath(CRISPResso_filepath)\n",
    "print(CRISPResso_filepath)\n"
   ]
  },
  {
   "cell_type": "markdown",
   "metadata": {},
   "source": [
    "<font color='blue'><b>Step 3:</b> Enter filepath to folder where the files generated by this notebook will be stored. Please make sure that the filepath ends in a '/'. If the folders in this file path do not currently exist, they will be created when the notebook is run.  </font> "
   ]
  },
  {
   "cell_type": "code",
   "execution_count": 7,
   "metadata": {
    "scrolled": true
   },
   "outputs": [
    {
     "name": "stdout",
     "output_type": "stream",
     "text": [
      "Please enter output folder filepath here: ../../AudreyData/TP53/ABE/\n",
      "../../AudreyData/TP53/ABE/\n"
     ]
    }
   ],
   "source": [
    "global output_filepath\n",
    "# output_filepath = 'AudreyData/Validation_CRISPResso_results/'\n",
    "output_filepath = input(\"Please enter output folder filepath here: \")\n",
    "output_filepath = check_folder_filepath(output_filepath)\n",
    "print(output_filepath)"
   ]
  },
  {
   "cell_type": "markdown",
   "metadata": {},
   "source": [
    "<font color='blue'><b>Step 4:</b> Please select the type of base editor (BE) used in the samples in input file. Then, click on the next cell to continue."
   ]
  },
  {
   "cell_type": "code",
   "execution_count": 8,
   "metadata": {
    "scrolled": true
   },
   "outputs": [
    {
     "name": "stdout",
     "output_type": "stream",
     "text": [
      "Please specify the type of base editor used in the input samples by entering 'A' for A base editor or 'C' for C base editor: A\n"
     ]
    }
   ],
   "source": [
    "global be_type\n",
    "\n",
    "be_type_input = input(\"Please specify the type of base editor used in the input samples by entering 'A' for A base editor or 'C' for C base editor: \")\n"
   ]
  },
  {
   "cell_type": "code",
   "execution_count": 9,
   "metadata": {},
   "outputs": [
    {
     "data": {
      "application/javascript": [
       "IPython.notebook.execute_cells_below()"
      ],
      "text/plain": [
       "<IPython.core.display.Javascript object>"
      ]
     },
     "metadata": {},
     "output_type": "display_data"
    }
   ],
   "source": [
    "# Make sure a base editor is selected and not default value\n",
    "\n",
    "if (be_type_input != 'A') and (be_type_input != 'C'):\n",
    "    raise Exception('Invalid input. Please enter either A or C to specify base editor.')\n",
    "\n",
    "else:\n",
    "    # Run rest of notebook! \n",
    "    be_type = be_type_input + 'BE'\n",
    "    display(Javascript('IPython.notebook.execute_cells_below()'))"
   ]
  },
  {
   "cell_type": "markdown",
   "metadata": {},
   "source": [
    "<font color='blue'> <b>Ready to run functions!</b> </font> "
   ]
  },
  {
   "cell_type": "markdown",
   "metadata": {},
   "source": [
    "## Functions "
   ]
  },
  {
   "cell_type": "code",
   "execution_count": 10,
   "metadata": {},
   "outputs": [
    {
     "data": {
      "text/html": [
       "<div>\n",
       "<style scoped>\n",
       "    .dataframe tbody tr th:only-of-type {\n",
       "        vertical-align: middle;\n",
       "    }\n",
       "\n",
       "    .dataframe tbody tr th {\n",
       "        vertical-align: top;\n",
       "    }\n",
       "\n",
       "    .dataframe thead th {\n",
       "        text-align: right;\n",
       "    }\n",
       "</style>\n",
       "<table border=\"1\" class=\"dataframe\">\n",
       "  <thead>\n",
       "    <tr style=\"text-align: right;\">\n",
       "      <th></th>\n",
       "      <th>guide_seq</th>\n",
       "      <th>BEV</th>\n",
       "      <th>primer</th>\n",
       "      <th>type</th>\n",
       "      <th>left_lim</th>\n",
       "      <th>right_lim</th>\n",
       "      <th>width</th>\n",
       "      <th>height</th>\n",
       "    </tr>\n",
       "  </thead>\n",
       "  <tbody>\n",
       "    <tr>\n",
       "      <th>0</th>\n",
       "      <td>GCTCCTCCATGGCAGTGACC</td>\n",
       "      <td>417;418</td>\n",
       "      <td>F3_R2</td>\n",
       "      <td>ref</td>\n",
       "      <td>-25</td>\n",
       "      <td>25</td>\n",
       "      <td>6</td>\n",
       "      <td>6</td>\n",
       "    </tr>\n",
       "    <tr>\n",
       "      <th>1</th>\n",
       "      <td>GCTCCTCCATGGCAGTGACC</td>\n",
       "      <td>425;426</td>\n",
       "      <td>F3_R2</td>\n",
       "      <td>test</td>\n",
       "      <td>-25</td>\n",
       "      <td>25</td>\n",
       "      <td>6</td>\n",
       "      <td>6</td>\n",
       "    </tr>\n",
       "  </tbody>\n",
       "</table>\n",
       "</div>"
      ],
      "text/plain": [
       "              guide_seq      BEV primer  type  left_lim  right_lim  width  \\\n",
       "0  GCTCCTCCATGGCAGTGACC  417;418  F3_R2   ref       -25         25      6   \n",
       "1  GCTCCTCCATGGCAGTGACC  425;426  F3_R2  test       -25         25      6   \n",
       "\n",
       "   height  \n",
       "0       6  \n",
       "1       6  "
      ]
     },
     "execution_count": 10,
     "metadata": {},
     "output_type": "execute_result"
    }
   ],
   "source": [
    "'''\n",
    "This function removes any NaN rows from input_file\n",
    "'''\n",
    "def clean_input_file(df):\n",
    "    df = df.dropna() #drop NaN \n",
    "    #dropna() converts int to float, so convert them back\n",
    "    float_cols = df.select_dtypes(include=['float64']).columns #select subset of df of type float\n",
    "    for col in float_cols: \n",
    "        #get original column index so can replace at correct loc\n",
    "        index = df.columns.get_loc(col)\n",
    "        #rename float cols as \"float_\"col name \n",
    "        float_col_name = 'float_' + col\n",
    "        df = df.rename(columns = {col : float_col_name})\n",
    "        #overwrite as type int\n",
    "        float_to_int = df[float_col_name].astype(int).copy()\n",
    "        df.insert(index, col, float_to_int)\n",
    "        #drop float column \n",
    "        df = df.drop(float_col_name, axis = 1)\n",
    "    return df\n",
    "\n",
    "#make input df with columns BEV, offset, rev_com, left_lim, right_lim, primer, width, height\n",
    "input_df = pd.DataFrame()\n",
    "\n",
    "#check for NaN values i.e. blank rows\n",
    "if input_file.isnull().values.any(): \n",
    "    input_file = clean_input_file(input_file)\n",
    "\n",
    "allele_freq_input_df = input_file\n",
    "\n",
    "# guides = []\n",
    "\n",
    "BEV_test_df = allele_freq_input_df[['sgRNA_sequence', 'BEV_test', 'primer']].copy()\n",
    "BEV_test_df['type'] = 'test'\n",
    "BEV_test_df = BEV_test_df.copy().rename(columns = {'sgRNA_sequence': 'guide_seq', 'BEV_test':'BEV'})\n",
    "\n",
    "BEV_ref_df = allele_freq_input_df[['sgRNA_sequence', 'BEV_ref', 'primer']].copy()\n",
    "BEV_ref_df['type'] = 'ref'\n",
    "BEV_ref_df = BEV_ref_df.copy().rename(columns = {'sgRNA_sequence': 'guide_seq', 'BEV_ref':'BEV'})\n",
    "\n",
    "input_df = pd.concat([BEV_ref_df, BEV_test_df]).reset_index(drop=True)\n",
    "\n",
    "# input_df['BEV'] = allele_freq_input_df['BEV_test']\n",
    "\n",
    "# for i,row1 in allele_freq_input_df.iterrows():\n",
    "#     guides.append(row1.copy()['sgRNA_sequence'])\n",
    "    \n",
    "# input_df['guide_seq'] = guides\n",
    "# # input_df['rev_com'] = allele_freq_input_df['rev_com'].copy()\n",
    "input_df['left_lim'] = -25\n",
    "input_df['right_lim'] = 25\n",
    "# input_df['primer'] = allele_freq_input_df['primer'].copy()\n",
    "input_df['width'] = 6 \n",
    "input_df['height'] = 6 \n",
    "#input_df = input_df.head(n=2)\n",
    "input_df"
   ]
  },
  {
   "cell_type": "code",
   "execution_count": 11,
   "metadata": {},
   "outputs": [],
   "source": [
    "def get_bev_str(bev):\n",
    "# Converts BEV number from int to 3-digit string    \n",
    "    bev = int(bev)\n",
    "    if bev < 10:\n",
    "        return '00'+str(bev)\n",
    "    if bev < 100:\n",
    "        return '0'+str(bev)\n",
    "    return str(bev)\n",
    "\n",
    "def check_filepath(filepath,bev,primer):\n",
    "    file_loc = filepath+'/CRISPResso_on_NGBEV_'+bev+'_'+primer+'/'+'Nucleotide_percentage_table.txt'\n",
    "    if path.exists(file_loc):\n",
    "        return file_loc\n",
    "    else:\n",
    "        raise ValueError('File not found. Please check your filepath inputs.')\n",
    "        return 0\n",
    "        \n",
    "def get_complement(val):\n",
    "    complement_dict = {'A':'T','C':'G','G':'C','T':'A'}\n",
    "    return complement_dict[val]\n",
    "\n",
    "def get_bev_df(bev_list,output_name,primer, guide):\n",
    "    for i,BEV in enumerate(bev_list):\n",
    "        filepath = CRISPResso_filepath\n",
    "        file_loc = check_filepath(filepath,get_bev_str(BEV),primer)\n",
    "        data = pd.read_table(file_loc,header=None)\n",
    "        data = data.transpose()\n",
    "        # Set first row to be column names\n",
    "        data.columns = data.iloc[0]\n",
    "        data = data.drop(data.index[0])\n",
    "        data = data.rename(columns = {np.nan:'WT'})\n",
    "        # Add row showing the position\n",
    "        data['position'] = data.index - 1\n",
    "        data = data.rename(columns = {'-':'del'}) # to display better in Excel\n",
    "        \n",
    "        amplicon = data['WT'].copy().str.cat()\n",
    "\n",
    "        offset = amplicon.find(guide)\n",
    "        print(guide)\n",
    "        \n",
    "        # Calculate \"offset_position\" relative to sgRNA using manually-determined offset (custom for each sgRNA)\n",
    "        data['offset_position'] = data['position'] - offset + 1\n",
    "#         print(data.loc[guide_start_index:guide_end_index, :])\n",
    "        \n",
    "        data = data.rename(columns = {'A':'A_'+str(BEV),'C':'C_'+str(BEV),'G':'G_'+str(BEV),'T':'T_'+str(BEV),'del':'del_'+str(BEV),'N':'N_'+str(BEV)})\n",
    "\n",
    "        if i == 0:\n",
    "            existing_df = data\n",
    "        else:\n",
    "            # Merge onto existing dataframe\n",
    "            existing_df = pd.merge(existing_df,data,on=['WT','position','offset_position'],how='outer')\n",
    "    \n",
    "    # Average columns\n",
    "    for nuc in ['A','C','G','T','N','del']:\n",
    "        cols = []\n",
    "        for bev in bev_list:\n",
    "            cols.append(nuc+'_'+bev)\n",
    "        existing_df[cols] = existing_df[cols].astype(float)\n",
    "        existing_df[nuc+'_avg'] = existing_df[cols].mean(axis=1)\n",
    "    \n",
    "    # Write out file\n",
    "    Path(output_filepath + \"nucleotide_percentage/\").mkdir(parents=True, exist_ok=True)\n",
    "    existing_df.to_csv(output_filepath + 'nucleotide_percentage/BEV_'+output_name+'.csv',index=False)\n",
    "    \n",
    "    # Filter for rows where WT is A or C depending on base editor type \n",
    "    if be_type == 'ABE':\n",
    "        existing_df = existing_df.loc[existing_df['WT'] == 'A']\n",
    "    elif be_type == 'CBE':\n",
    "        existing_df = existing_df.loc[existing_df['WT'] == 'C']\n",
    "\n",
    "    return existing_df\n"
   ]
  },
  {
   "cell_type": "code",
   "execution_count": 12,
   "metadata": {},
   "outputs": [],
   "source": [
    "def make_plot_v2(data,left_lim,right_lim,bevs,primer,width,height):\n",
    "    \n",
    "    # Get list of value_vars for pd.melt\n",
    "    value_vars = []\n",
    "    if be_type == 'ABE':\n",
    "        nuc_list = ['C','T','G','N','del']\n",
    "    elif be_type == 'CBE':\n",
    "        nuc_list = ['A','T','G','N','del']\n",
    "    \n",
    "    for nuc in nuc_list:\n",
    "        for bev in bevs:\n",
    "            value_vars.append(nuc+'_'+str(bev))\n",
    "        value_vars.append(nuc+'_avg')\n",
    "    \n",
    "    # Make tidy data\n",
    "    data = data.melt(id_vars=['WT','offset_position'],value_vars=value_vars,\n",
    "                    var_name='nucleotide',value_name='percentage')\n",
    "    \n",
    "    # Filter for nucleotides to include on plot\n",
    "    data = data[(data['offset_position'] > left_lim) & (data['offset_position'] < right_lim)]\n",
    "    data = data.sort_values(by='offset_position')\n",
    "    data['offset_position'] = data['offset_position'].astype(str)\n",
    "    \n",
    "    # Convert to percentage\n",
    "    data['percentage'] = data['percentage'] * 100\n",
    "    \n",
    "    # Split \"nucleotide\" column into two: one with BEV number (or average) and one with nucleotide\n",
    "    data['BEV'] = data['nucleotide'].apply(lambda x: x.split('_')[1]) # returns BEV number or \"avg\"\n",
    "    data['nucleotide'] = data['nucleotide'].apply(lambda x: x.split('_')[0]) # returns nucleotide\n",
    "    \n",
    "    # Get order of offset positions for plotting\n",
    "    if be_type == 'ABE': \n",
    "        order = data.loc[(data['nucleotide'] == 'C') & (data['BEV'] == 'avg'),'offset_position'].tolist() # require that 'BEV' == 'avg' just to deduplicate list\n",
    "        hue_order = ['C','G','T','N','del']\n",
    "    \n",
    "    elif be_type == 'CBE': \n",
    "        order = data.loc[(data['nucleotide'] == 'A') & (data['BEV'] == 'avg'),'offset_position'].tolist() # require that 'BEV' == 'avg' just to deduplicate list\n",
    "        hue_order = ['A','G','T','N','del']\n",
    "    \n",
    "    # Make plot\n",
    "    fig,ax = plt.subplots(figsize=(width,height))\n",
    "    sns.set_context(rc = {'patch.linewidth': 0.0})\n",
    "    \n",
    "    # Plot average of 2 replicates as bar    \n",
    "    sns.barplot(x='offset_position',y='percentage',hue='nucleotide',data=data.loc[data['BEV'] == 'avg',:],order=order,hue_order=hue_order,palette=sns.color_palette('Set2'),\n",
    "               linewidth=0)\n",
    "    \n",
    "    # Plot individual replicates as dots\n",
    "    for bev in bevs:\n",
    "        sns.stripplot(x='offset_position',y='percentage',hue='nucleotide',data=data.loc[data['BEV'] == bev,:],order=order,hue_order=hue_order,color='black',s=1,dodge=True)\n",
    "    if be_type == 'ABE':\n",
    "        plt.xlabel('position of A',fontsize=6)\n",
    "    elif be_type == 'CBE':\n",
    "        plt.xlabel('position of C',fontsize=6)\n",
    "    plt.ylabel('percentage',fontsize=6)\n",
    "    \n",
    "    # Set y axis to start at 0\n",
    "    ylim_upper = ax.get_ylim()[1]\n",
    "    ax.set_ylim(0,ylim_upper)\n",
    "    \n",
    "    # Clean up axes\n",
    "    sns.despine()\n",
    "    for axis in ['bottom','left']:\n",
    "        ax.spines[axis].set_linewidth(0.5)\n",
    "    ax.tick_params(axis='both',labelsize=6,width=0.5,length=2)\n",
    "    \n",
    "    # Plot legend \n",
    "    handles, labels = ax.get_legend_handles_labels()\n",
    "    plt.legend(handles[-5:], labels[-5:],loc='upper right',frameon=False,fontsize=6)\n",
    "    Path(output_filepath + \"nucleotide_percentage/\").mkdir(parents=True, exist_ok=True)\n",
    "    fig.savefig(output_filepath + 'nucleotide_percentage/BEV_'+output_name+'.pdf',transparent=True,bbox_inches = \"tight\")\n",
    "    plt.close()\n",
    "    \n",
    "    return"
   ]
  },
  {
   "cell_type": "code",
   "execution_count": 13,
   "metadata": {},
   "outputs": [
    {
     "name": "stdout",
     "output_type": "stream",
     "text": [
      "417;418\n",
      "GCTCCTCCATGGCAGTGACC\n",
      "GCTCCTCCATGGCAGTGACC\n",
      "425;426\n",
      "GCTCCTCCATGGCAGTGACC\n",
      "GCTCCTCCATGGCAGTGACC\n"
     ]
    }
   ],
   "source": [
    "# Get input data\n",
    "\n",
    "for i,row in input_df.iterrows():\n",
    "    print(row['BEV'])\n",
    "    bev_list = row['BEV'].split(';')\n",
    "    output_name = '_'.join(bev_list)+'_'+row['primer']\n",
    "    #bev_df = get_bev_df(bev_list,row['rev_com'],output_name,row['primer'], row['guide_seq'])\n",
    "    bev_df = get_bev_df(bev_list,output_name,row['primer'],row['guide_seq'])\n",
    "    make_plot_v2(bev_df,row['left_lim'],row['right_lim'],bev_list,output_name,row['width'],row['height'])\n",
    "    \n",
    "    #break"
   ]
  },
  {
   "cell_type": "code",
   "execution_count": null,
   "metadata": {},
   "outputs": [],
   "source": []
  }
 ],
 "metadata": {
  "kernelspec": {
   "display_name": "Python 3",
   "language": "python",
   "name": "python3"
  },
  "language_info": {
   "codemirror_mode": {
    "name": "ipython",
    "version": 3
   },
   "file_extension": ".py",
   "mimetype": "text/x-python",
   "name": "python",
   "nbconvert_exporter": "python",
   "pygments_lexer": "ipython3",
   "version": "3.7.6"
  },
  "toc": {
   "base_numbering": 1,
   "nav_menu": {},
   "number_sections": true,
   "sideBar": true,
   "skip_h1_title": false,
   "title_cell": "Table of Contents",
   "title_sidebar": "Contents",
   "toc_cell": false,
   "toc_position": {},
   "toc_section_display": true,
   "toc_window_display": false
  }
 },
 "nbformat": 4,
 "nbformat_minor": 4
}
