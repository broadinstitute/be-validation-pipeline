{
 "cells": [
  {
   "cell_type": "markdown",
   "metadata": {},
   "source": [
    "# Nucleotide percentage plots\n",
    "\n",
    "This notebook contains code to process the \"Nucleotide_percentage_table\" file from the CRISPResso output into a file containing the % of each each nucleotide at each target nucleotide, numbered relative to the sgRNA. It also produces a plot showing the same information (as in Figure S4A, D, G, J)."
   ]
  },
  {
   "cell_type": "code",
   "execution_count": 1,
   "metadata": {},
   "outputs": [],
   "source": [
    "import sys\n",
    "sys.path.append('../scripts/')\n",
    "import pandas as pd \n",
    "import numpy as np \n",
    "import matplotlib as mpl\n",
    "import matplotlib.pyplot as plt\n",
    "import seaborn as sns\n",
    "from os import path\n",
    "from pathlib import Path\n",
    "import notebook_functions as nb\n",
    "\n",
    "#import aa_guideseq_visualization as guideseq\n",
    "mpl.rc('pdf', fonttype=42)\n",
    "mpl.rcParams['font.sans-serif'] = \"Arial\"\n",
    "mpl.rcParams['font.family'] = \"sans-serif\"\n"
   ]
  },
  {
   "cell_type": "markdown",
   "metadata": {},
   "source": [
    "## User inputs\n",
    "\n",
    "<font color='blue'> Please follow steps indicated in blue, then run the notebook to generate output files. If the files are formatted as described in the documentation, the code in the 'Functions' section should not need to be altered. </font> "
   ]
  },
  {
   "cell_type": "markdown",
   "metadata": {},
   "source": [
    "**Metainformation file** \n",
    "\n",
    "<font color='blue'> <b>Step 1:</b> Please enter the filepath to the metainformation input file used in the allele frequencies notebook. The same file will be used in this notebook. </font> "
   ]
  },
  {
   "cell_type": "code",
   "execution_count": 4,
   "metadata": {
    "scrolled": false
   },
   "outputs": [
    {
     "name": "stdout",
     "output_type": "stream",
     "text": [
      "Please enter input filepath here: ../../AudreyData/TP53/Metainfo_input_ABE_TP53_fixed_updated_1d_sample.csv\n"
     ]
    },
    {
     "data": {
      "text/html": [
       "<div>\n",
       "<style scoped>\n",
       "    .dataframe tbody tr th:only-of-type {\n",
       "        vertical-align: middle;\n",
       "    }\n",
       "\n",
       "    .dataframe tbody tr th {\n",
       "        vertical-align: top;\n",
       "    }\n",
       "\n",
       "    .dataframe thead th {\n",
       "        text-align: right;\n",
       "    }\n",
       "</style>\n",
       "<table border=\"1\" class=\"dataframe\">\n",
       "  <thead>\n",
       "    <tr style=\"text-align: right;\">\n",
       "      <th></th>\n",
       "      <th>sg</th>\n",
       "      <th>sgRNA_sequence</th>\n",
       "      <th>translation_ref_seq</th>\n",
       "      <th>BEV_start</th>\n",
       "      <th>BEV_end</th>\n",
       "      <th>primer</th>\n",
       "      <th>frame</th>\n",
       "      <th>first_codon</th>\n",
       "      <th>last_codon</th>\n",
       "      <th>rev_com</th>\n",
       "      <th>BEV_ref</th>\n",
       "      <th>BEV_test</th>\n",
       "    </tr>\n",
       "  </thead>\n",
       "  <tbody>\n",
       "    <tr>\n",
       "      <th>0</th>\n",
       "      <td>1d</td>\n",
       "      <td>GCTCCTCCATGGCAGTGACC</td>\n",
       "      <td>[TTCCTCTTGCAGCAGCCAGACTGCCTTCCGGGTCACTGCC]ATGG...</td>\n",
       "      <td>417</td>\n",
       "      <td>426</td>\n",
       "      <td>F3_R2</td>\n",
       "      <td>1</td>\n",
       "      <td>ATG</td>\n",
       "      <td>CTG</td>\n",
       "      <td>True</td>\n",
       "      <td>417;418</td>\n",
       "      <td>425;426</td>\n",
       "    </tr>\n",
       "  </tbody>\n",
       "</table>\n",
       "</div>"
      ],
      "text/plain": [
       "   sg        sgRNA_sequence  \\\n",
       "0  1d  GCTCCTCCATGGCAGTGACC   \n",
       "\n",
       "                                 translation_ref_seq  BEV_start  BEV_end  \\\n",
       "0  [TTCCTCTTGCAGCAGCCAGACTGCCTTCCGGGTCACTGCC]ATGG...        417      426   \n",
       "\n",
       "  primer  frame first_codon last_codon  rev_com  BEV_ref BEV_test  \n",
       "0  F3_R2      1         ATG        CTG     True  417;418  425;426  "
      ]
     },
     "execution_count": 4,
     "metadata": {},
     "output_type": "execute_result"
    }
   ],
   "source": [
    "global input_file\n",
    "# input_filepath = '../../Metainfo_input_CBE_TP53_first_last_codon.csv'\n",
    "input_filepath = input(\"Please enter input filepath here: \")\n",
    "input_file = pd.read_csv(input_filepath)\n",
    "\n",
    "input_file"
   ]
  },
  {
   "cell_type": "markdown",
   "metadata": {},
   "source": [
    "<font color='blue'><b>Step 2:</b> Enter filepath to folder containing CRISPResso output files here. Please make sure that the filepath ends in a '/'.  </font> \n",
    "\n",
    "Please note that each folder containing CRISPResso output files for individual samples within the given folder should be named in the format 'CRISPResso_on_'+bev+'\\_'+\n",
    "primer, where bev = ('BEV' OR 'NGBEV') + sample_number and primer = primer name. \n",
    "Ex. <font color='grey'>CRISPResso_on</font><font color='purple'>_BEV_001</font><font color='green'>_F2_R2</font>"
   ]
  },
  {
   "cell_type": "code",
   "execution_count": 5,
   "metadata": {},
   "outputs": [
    {
     "name": "stdout",
     "output_type": "stream",
     "text": [
      "Please enter either 'BEV' or 'NGBEV' to indicate which string is used when naming your CRISPResso files.NGBEV\n"
     ]
    }
   ],
   "source": [
    "global bev_string_id\n",
    "bev_string_id = input('Please enter either \\'BEV\\' or \\'NGBEV\\' to indicate which string is used when naming your CRISPResso files.')\n",
    "if ((bev_string_id != 'BEV') and (bev_string_id != 'NGBEV')):\n",
    "    raise Exception('Invalid input. Please enter either \\'BEV\\' or \\'NGBEV\\' to specify which string is used in CRISPResso file names. Be careful not to add any extra spaces.')\n"
   ]
  },
  {
   "cell_type": "code",
   "execution_count": 6,
   "metadata": {},
   "outputs": [
    {
     "name": "stdout",
     "output_type": "stream",
     "text": [
      "Please enter CRISPResso filepath here: ../../AudreyData/TP53/TP53_ABE_Sample_CRISPResso/\n",
      "../../AudreyData/TP53/TP53_ABE_Sample_CRISPResso/\n"
     ]
    }
   ],
   "source": [
    "global CRISPResso_filepath\n",
    "# CRISPResso_filepath= \"AudreyData/CRISPRessoBatch_on_F2R1_batch_file_v2/\"\n",
    "CRISPResso_filepath = input(\"Please enter CRISPResso filepath here: \")\n",
    "CRISPResso_filepath = nb.check_folder_filepath(CRISPResso_filepath)\n",
    "print(CRISPResso_filepath)\n"
   ]
  },
  {
   "cell_type": "markdown",
   "metadata": {},
   "source": [
    "<font color='blue'><b>Step 3:</b> Enter filepath to folder where the files generated by this notebook will be stored. Please make sure that the filepath ends in a '/'. If the folders in this file path do not currently exist, they will be created when the notebook is run.  </font> "
   ]
  },
  {
   "cell_type": "code",
   "execution_count": 7,
   "metadata": {
    "scrolled": true
   },
   "outputs": [
    {
     "name": "stdout",
     "output_type": "stream",
     "text": [
      "Please enter output folder filepath here: ../../AudreyData/TP53/ABE/\n",
      "../../AudreyData/TP53/ABE/\n"
     ]
    }
   ],
   "source": [
    "global output_filepath\n",
    "# output_filepath = 'AudreyData/Validation_CRISPResso_results/'\n",
    "output_filepath = input(\"Please enter output folder filepath here: \")\n",
    "output_filepath = nb.check_folder_filepath(output_filepath)\n",
    "print(output_filepath)"
   ]
  },
  {
   "cell_type": "markdown",
   "metadata": {},
   "source": [
    "<font color='blue'><b>Step 4:</b> Please select the type of base editor (BE) used in the samples in input file. Then, click on the next cell to continue."
   ]
  },
  {
   "cell_type": "code",
   "execution_count": 8,
   "metadata": {
    "scrolled": true
   },
   "outputs": [
    {
     "name": "stdout",
     "output_type": "stream",
     "text": [
      "Please specify the type of base editor used in the input samples by entering 'A' for A base editor or 'C' for C base editor: A\n"
     ]
    }
   ],
   "source": [
    "global be_type\n",
    "\n",
    "be_type_input = input(\"Please specify the type of base editor used in the input samples by entering 'A' for A base editor or 'C' for C base editor: \")\n"
   ]
  },
  {
   "cell_type": "code",
   "execution_count": 9,
   "metadata": {},
   "outputs": [
    {
     "data": {
      "application/javascript": [
       "IPython.notebook.execute_cells_below()"
      ],
      "text/plain": [
       "<IPython.core.display.Javascript object>"
      ]
     },
     "metadata": {},
     "output_type": "display_data"
    }
   ],
   "source": [
    "# Make sure a base editor is selected and not default value\n",
    "\n",
    "if (be_type_input != 'A') and (be_type_input != 'C'):\n",
    "    raise Exception('Invalid input. Please enter either A or C to specify base editor.')\n",
    "\n",
    "else:\n",
    "    # Run rest of notebook! \n",
    "    be_type = be_type_input + 'BE'"
   ]
  },
  {
   "cell_type": "markdown",
   "metadata": {},
   "source": [
    "<font color='blue'> <b>Ready to run functions!</b> </font>"
   ]
  },
  {
   "cell_type": "code",
   "execution_count": 10,
   "metadata": {},
   "outputs": [
    {
     "data": {
      "text/html": [
       "<div>\n",
       "<style scoped>\n",
       "    .dataframe tbody tr th:only-of-type {\n",
       "        vertical-align: middle;\n",
       "    }\n",
       "\n",
       "    .dataframe tbody tr th {\n",
       "        vertical-align: top;\n",
       "    }\n",
       "\n",
       "    .dataframe thead th {\n",
       "        text-align: right;\n",
       "    }\n",
       "</style>\n",
       "<table border=\"1\" class=\"dataframe\">\n",
       "  <thead>\n",
       "    <tr style=\"text-align: right;\">\n",
       "      <th></th>\n",
       "      <th>guide_seq</th>\n",
       "      <th>BEV</th>\n",
       "      <th>primer</th>\n",
       "      <th>type</th>\n",
       "      <th>left_lim</th>\n",
       "      <th>right_lim</th>\n",
       "      <th>width</th>\n",
       "      <th>height</th>\n",
       "    </tr>\n",
       "  </thead>\n",
       "  <tbody>\n",
       "    <tr>\n",
       "      <th>0</th>\n",
       "      <td>GCTCCTCCATGGCAGTGACC</td>\n",
       "      <td>417;418</td>\n",
       "      <td>F3_R2</td>\n",
       "      <td>ref</td>\n",
       "      <td>-25</td>\n",
       "      <td>25</td>\n",
       "      <td>6</td>\n",
       "      <td>6</td>\n",
       "    </tr>\n",
       "    <tr>\n",
       "      <th>1</th>\n",
       "      <td>GCTCCTCCATGGCAGTGACC</td>\n",
       "      <td>425;426</td>\n",
       "      <td>F3_R2</td>\n",
       "      <td>test</td>\n",
       "      <td>-25</td>\n",
       "      <td>25</td>\n",
       "      <td>6</td>\n",
       "      <td>6</td>\n",
       "    </tr>\n",
       "  </tbody>\n",
       "</table>\n",
       "</div>"
      ],
      "text/plain": [
       "              guide_seq      BEV primer  type  left_lim  right_lim  width  \\\n",
       "0  GCTCCTCCATGGCAGTGACC  417;418  F3_R2   ref       -25         25      6   \n",
       "1  GCTCCTCCATGGCAGTGACC  425;426  F3_R2  test       -25         25      6   \n",
       "\n",
       "   height  \n",
       "0       6  \n",
       "1       6  "
      ]
     },
     "execution_count": 10,
     "metadata": {},
     "output_type": "execute_result"
    }
   ],
   "source": [
    "#make input df with columns BEV, offset, rev_com, left_lim, right_lim, primer, width, height\n",
    "input_df = pd.DataFrame()\n",
    "\n",
    "#check for NaN values i.e. blank rows\n",
    "if input_file.isnull().values.any(): \n",
    "    input_file = nb.clean_input_file(input_file)\n",
    "\n",
    "allele_freq_input_df = input_file\n",
    "\n",
    "\n",
    "BEV_test_df = allele_freq_input_df[['sgRNA_sequence', 'BEV_test', 'primer']].copy()\n",
    "BEV_test_df['type'] = 'test'\n",
    "BEV_test_df = BEV_test_df.copy().rename(columns = {'sgRNA_sequence': 'guide_seq', 'BEV_test':'BEV'})\n",
    "\n",
    "BEV_ref_df = allele_freq_input_df[['sgRNA_sequence', 'BEV_ref', 'primer']].copy()\n",
    "BEV_ref_df['type'] = 'ref'\n",
    "BEV_ref_df = BEV_ref_df.copy().rename(columns = {'sgRNA_sequence': 'guide_seq', 'BEV_ref':'BEV'})\n",
    "\n",
    "input_df = pd.concat([BEV_ref_df, BEV_test_df]).reset_index(drop=True)\n",
    "\n",
    "# Set x-axis limits\n",
    "input_df['left_lim'] = -25\n",
    "input_df['right_lim'] = 25\n",
    "\n",
    "# Set plot dimensions\n",
    "input_df['width'] = 6\n",
    "input_df['height'] = 6\n",
    "\n",
    "input_df"
   ]
  },
  {
   "cell_type": "code",
   "execution_count": 13,
   "metadata": {},
   "outputs": [
    {
     "name": "stdout",
     "output_type": "stream",
     "text": [
      "417;418\n",
      "GCTCCTCCATGGCAGTGACC\n",
      "GCTCCTCCATGGCAGTGACC\n",
      "425;426\n",
      "GCTCCTCCATGGCAGTGACC\n",
      "GCTCCTCCATGGCAGTGACC\n"
     ]
    }
   ],
   "source": [
    "# Run functions row by row\n",
    "for i,row in input_df.iterrows():\n",
    "    print(row['BEV'])\n",
    "    bev_list = row['BEV'].split(';')\n",
    "    output_name = '_'.join(bev_list)#+'_'+row['primer']\n",
    "    #bev_df = get_bev_df(bev_list,row['rev_com'],output_name,row['primer'], row['guide_seq'])\n",
    "    bev_df = nb.get_bev_df(bev_list,output_name,row['guide_seq'], be_type, CRISPResso_filepath,\n",
    "                          bev_string_id, output_filepath)\n",
    "    nb.make_nuc_per_plot(bev_df,row['left_lim'],row['right_lim'],bev_list, row['width'],row['height'],\n",
    "                    be_type, output_name, output_filepath)\n",
    "    \n",
    "    #break"
   ]
  },
  {
   "cell_type": "code",
   "execution_count": null,
   "metadata": {},
   "outputs": [],
   "source": []
  }
 ],
 "metadata": {
  "kernelspec": {
   "display_name": "Python 3",
   "language": "python",
   "name": "python3"
  },
  "language_info": {
   "codemirror_mode": {
    "name": "ipython",
    "version": 3
   },
   "file_extension": ".py",
   "mimetype": "text/x-python",
   "name": "python",
   "nbconvert_exporter": "python",
   "pygments_lexer": "ipython3",
   "version": "3.7.6"
  },
  "toc": {
   "base_numbering": 1,
   "nav_menu": {},
   "number_sections": true,
   "sideBar": true,
   "skip_h1_title": false,
   "title_cell": "Table of Contents",
   "title_sidebar": "Contents",
   "toc_cell": false,
   "toc_position": {},
   "toc_section_display": true,
   "toc_window_display": false
  }
 },
 "nbformat": 4,
 "nbformat_minor": 4
}