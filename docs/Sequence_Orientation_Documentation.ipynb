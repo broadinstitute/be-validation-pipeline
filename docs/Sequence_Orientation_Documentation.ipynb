{
 "cells": [
  {
   "cell_type": "markdown",
   "metadata": {},
   "source": [
    "# CRISPResso and BEV notebook Sequence Orientations"
   ]
  },
  {
   "cell_type": "markdown",
   "metadata": {},
   "source": [
    "<span style=\"font-size:1.5em;\">Please note: All sequences are written in the 5' to 3' direction. </span>"
   ]
  },
  {
   "cell_type": "markdown",
   "metadata": {},
   "source": [
    "## Inputs for running CRISPResso"
   ]
  },
  {
   "cell_type": "markdown",
   "metadata": {},
   "source": [
    "<b> Batch file (BEV input) columns: </b>\n",
    "\n",
    "| name      | identifier       | amplicon_seq                                  | guide_seq | w | wc        | exclude_bp_from_left | exclude_bp_from_right| plot_window_size|\n",
    "| ------- | -------------------- | ---------------------------------------- |  -------: |  -----: | ------------- |  ----|----|---: |\n",
    "\n",
    "This document walks through the <b> amplicon_seq </b> and <b> guide_seq </b> columns. For all other parameter descriptions, please see the [Base Editor Validation Pipeline documentation](https://gpp-rnd.github.io/be-validation-pipeline/) on GitHub."
   ]
  },
  {
   "cell_type": "markdown",
   "metadata": {},
   "source": [
    "<h3> guide_seq"
   ]
  },
  {
   "cell_type": "markdown",
   "metadata": {},
   "source": [
    "Since CRISPResso only uses the guide_seq input for naming files and does not use the guide_seq for alignment, for simplicity and consistency, \n",
    "* the guide_seq should be written <i> as designed</i>, irrespective of primer direction \n",
    "* guide_seq always goes 5’-3’ with PAM on 3’ end\n",
    "* <b>guide sense strand</b>: the strand that contains the sequence that matches (*not* complementary to) the mRNA"
   ]
  },
  {
   "cell_type": "markdown",
   "metadata": {},
   "source": [
    "![Ex.1 guide_seq](images/Ex1_guide_seq.png????)"
   ]
  },
  {
   "cell_type": "markdown",
   "metadata": {},
   "source": [
    "<h3> amplicon_seq"
   ]
  },
  {
   "cell_type": "markdown",
   "metadata": {},
   "source": [
    "* must always be on the <i>guide sense</i> strand, irrespective of primer direction\n"
   ]
  },
  {
   "cell_type": "markdown",
   "metadata": {},
   "source": [
    "<b> Example: </b>"
   ]
  },
  {
   "cell_type": "markdown",
   "metadata": {},
   "source": [
    "![Ex.1 amplicon_seq](images/Ex1_amplicon_seq.png???)"
   ]
  },
  {
   "cell_type": "markdown",
   "metadata": {},
   "source": [
    "## Input for Validation Notebooks"
   ]
  },
  {
   "cell_type": "markdown",
   "metadata": {},
   "source": [
    "### Get translation_ref_seq"
   ]
  },
  {
   "cell_type": "markdown",
   "metadata": {},
   "source": [
    "1. Go to the Alleles_frequency_table_around_sgRNA_(sgRNA_sequence).txt file\n",
    "2. In the WT allele row (i.e. Unedited = TRUE), the Reference_Sequence is your CRISPResso reference sequence."
   ]
  },
  {
   "cell_type": "markdown",
   "metadata": {},
   "source": [
    "![Ex.1 FindRefSeq](images/Ex1_FindCRISPRessoRefSeq.png?1?)"
   ]
  },
  {
   "cell_type": "markdown",
   "metadata": {},
   "source": [
    "### Compare CRISPResso reference sequence to translation reference sequence"
   ]
  },
  {
   "cell_type": "markdown",
   "metadata": {},
   "source": [
    "The reference sequence that CRISPResso outputs is a certain number of nucleotides (determined by the quantification window parameter) upstream and downstream of the input guide sequence. Therefore, it will be in the <b>guide sense</b> direction.  "
   ]
  },
  {
   "cell_type": "markdown",
   "metadata": {},
   "source": [
    "<b> Example: </b>"
   ]
  },
  {
   "cell_type": "markdown",
   "metadata": {},
   "source": [
    "![Ex.1 CRISPRessoRefSeq](images/Ex1_CRISPRessoRefSeq.png?)"
   ]
  },
  {
   "cell_type": "markdown",
   "metadata": {},
   "source": [
    "The sequence that should be translated to determine the amino acid sequence for a particular allele <b>may not necessarily be the same as the CRISPResso reference sequence.</b> The sequence that should be <i>translated</i> is what should be entered into the <b>translation_ref_seq</b> column of the metadata input file for the BEV_allele_frequencies validation notebook. This reference sequence should be formatted such that any untranslated regions (if applicable) are in lowercase. "
   ]
  },
  {
   "cell_type": "markdown",
   "metadata": {},
   "source": [
    "![Ex.1 TranslationRefSeq](images/Ex1_translation_ref_seq.png?)"
   ]
  },
  {
   "cell_type": "markdown",
   "metadata": {},
   "source": [
    "In this case, the <i>forward DNA strand</i> is being translated, so the reference sequence for translation is the reverse complement of the reference sequence that CRISPResso outputs. Therefore, in this case the reference sequence for the notebook metadata file is TTCCTCTTGCAGCAGCCAGACTGCCTTCCGGGTCACTGCCATGGAGGAGCCGCAGTCAGATCCTAGCGTCGAGCCCCCTC. \t"
   ]
  },
  {
   "cell_type": "markdown",
   "metadata": {},
   "source": [
    "### rev_com parameter"
   ]
  },
  {
   "cell_type": "markdown",
   "metadata": {},
   "source": [
    "The rev_com parameter in the notebook input file determines which strand will be translated. The parameter is defined by the following:\n",
    "* If the guide sequence/CRISPResso reference sequence and translation reference sequence are on <b>opposite</b> strands, then <b>rev_com</b> is <b>True</b>\n",
    "* If the guide sequence/CRISPResso reference sequence and translation reference sequences are on the <b>same</b> strand, then <b>rev_com</b> is <b>False</b>"
   ]
  },
  {
   "cell_type": "markdown",
   "metadata": {},
   "source": [
    "![Ex.1 rev_com](images/Ex1_rev_com.png?)"
   ]
  },
  {
   "cell_type": "markdown",
   "metadata": {},
   "source": [
    "In this case, since the guide sequence and CRISPResso reference sequence are on the reverse DNA strand, while the strand being translated is the forward DNA strand, <b> rev_com </b> is <b>True</b>. "
   ]
  },
  {
   "cell_type": "markdown",
   "metadata": {},
   "source": [
    "Here is what the metadata file for the BEV_allele_frequencies notebook would look like for this example. Explanations for the rest of the columns can be found in the BEV_allele_frequencies notebook: \n",
    "\n",
    "| sg      | sgRNA_sequence       | translation_ref_seq                                  | BEV_start | BEV_end | primer        | frame | first_codon| last_codon| rev_com | BEV_ref | BEV_test |\n",
    "| ------- | -------------------- | ---------------------------------------- |  -------: |  -----: | ------------- |  ----|----|---: | ------: | ------- | -------- |\n",
    "| 1   | GCTCCTCCATGGCAGTGACC | \\[TTCCTCTTGCAGCAGCCAGACTGCCTTCCGGGTCACTGCC\\]ATGGAGGAGCCGCAGTCAGATCCTAGCGTCGAGCCCCCTC | 417         | 426      |F3_R2 |  1    |ATG|CTG| True    | 417;418     | 425;426     |"
   ]
  }
 ],
 "metadata": {
  "kernelspec": {
   "display_name": "Python 3 (ipykernel)",
   "language": "python",
   "name": "python3"
  },
  "language_info": {
   "codemirror_mode": {
    "name": "ipython",
    "version": 3
   },
   "file_extension": ".py",
   "mimetype": "text/x-python",
   "name": "python",
   "nbconvert_exporter": "python",
   "pygments_lexer": "ipython3",
   "version": "3.7.6"
  },
  "toc": {
   "base_numbering": 1,
   "nav_menu": {},
   "number_sections": true,
   "sideBar": true,
   "skip_h1_title": false,
   "title_cell": "Table of Contents",
   "title_sidebar": "Contents",
   "toc_cell": false,
   "toc_position": {},
   "toc_section_display": true,
   "toc_window_display": false
  }
 },
 "nbformat": 4,
 "nbformat_minor": 4
}
